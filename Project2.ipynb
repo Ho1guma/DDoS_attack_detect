{
 "cells": [
  {
   "cell_type": "code",
   "execution_count": 1,
   "id": "mature-overview",
   "metadata": {},
   "outputs": [],
   "source": [
    "import tensorflow as tf\n",
    "import numpy as np\n",
    "import pandas as pd\n",
    "import eli5\n",
    "from eli5.sklearn import PermutationImportance\n",
    "from sklearn.model_selection import StratifiedKFold\n",
    "from imblearn.over_sampling import SMOTE\n",
    "from sklearn.model_selection import train_test_split\n",
    "from sklearn.metrics import classification_report, accuracy_score,precision_score,recall_score,f1_score,roc_auc_score\n",
    "from sklearn.metrics import confusion_matrix\n",
    "import seaborn as sns\n",
    "import lightgbm as lgb"
   ]
  },
  {
   "cell_type": "code",
   "execution_count": 2,
   "id": "considered-webmaster",
   "metadata": {},
   "outputs": [],
   "source": [
    "X_data = np.load('new_peminer_train_features.npy')\n",
    "Y_data= np.load('new_peminer_train_labels.npy') #데이터 불러오기"
   ]
  },
  {
   "cell_type": "code",
   "execution_count": 3,
   "id": "sonic-actor",
   "metadata": {},
   "outputs": [
    {
     "name": "stdout",
     "output_type": "stream",
     "text": [
      "(20000, 188) (20000,)\n"
     ]
    }
   ],
   "source": [
    "print(X_data.shape, Y_data.shape) #데이터 형태 확인"
   ]
  },
  {
   "cell_type": "code",
   "execution_count": 4,
   "id": "artificial-blogger",
   "metadata": {},
   "outputs": [],
   "source": [
    "df=pd.DataFrame(X_data)"
   ]
  },
  {
   "cell_type": "code",
   "execution_count": 5,
   "id": "armed-oklahoma",
   "metadata": {},
   "outputs": [],
   "source": [
    "normal=0\n",
    "attack=0\n",
    "for i in range(len(Y_data)):\n",
    "    if Y_data[i]==0:\n",
    "        normal=normal+1\n",
    "    elif Y_data[i]==1:\n",
    "        attack=attack+1"
   ]
  },
  {
   "cell_type": "code",
   "execution_count": 6,
   "id": "interesting-pattern",
   "metadata": {},
   "outputs": [
    {
     "name": "stdout",
     "output_type": "stream",
     "text": [
      "데이터의 분포\n",
      " normal data : 6000\n",
      " attack data : 14000\n",
      "\n"
     ]
    }
   ],
   "source": [
    "print(\"데이터의 분포\\n normal data : {}\\n attack data : {}\\n\".format(normal, attack)) #데이터 분포 확인"
   ]
  },
  {
   "cell_type": "code",
   "execution_count": 7,
   "id": "contained-while",
   "metadata": {},
   "outputs": [],
   "source": [
    "from sklearn.preprocessing import StandardScaler\n",
    "scaler = StandardScaler()\n",
    "X_data_scaler = scaler.fit_transform(X_data) #scaler 적용"
   ]
  },
  {
   "cell_type": "code",
   "execution_count": 8,
   "id": "decreased-gothic",
   "metadata": {},
   "outputs": [],
   "source": [
    "#data를 train, val, test로 나눠주기 위해 train_test_split으로 한 번 나눠줌\n",
    "X_train_val, X_test, Y_train_val, Y_test = train_test_split(X_data_scaler,Y_data, test_size=0.2, random_state=777, stratify=Y_data)"
   ]
  },
  {
   "cell_type": "code",
   "execution_count": 9,
   "id": "electronic-pilot",
   "metadata": {},
   "outputs": [],
   "source": [
    "model = lgb.LGBMClassifier() #모델은 light gbm사용"
   ]
  },
  {
   "cell_type": "code",
   "execution_count": 10,
   "id": "according-surface",
   "metadata": {},
   "outputs": [],
   "source": [
    "skf = StratifiedKFold(n_splits=5)\n",
    "k=5 #비율을 맞춰서 fold로 나눠주기 위해 stratifiedKFlod 사용"
   ]
  },
  {
   "cell_type": "code",
   "execution_count": 11,
   "id": "cheap-saskatchewan",
   "metadata": {},
   "outputs": [
    {
     "name": "stdout",
     "output_type": "stream",
     "text": [
      "1 번째 cross validation\n",
      "2 번째 cross validation\n",
      "3 번째 cross validation\n",
      "4 번째 cross validation\n",
      "5 번째 cross validation\n"
     ]
    }
   ],
   "source": [
    "result_Y_val=[]\n",
    "result_Y_val_pred=[]\n",
    "\n",
    "i=0\n",
    "for train_index,val_index in skf.split(X_train_val,Y_train_val):\n",
    "    i=i+1\n",
    "    print(str(i),\"번째 cross validation\")\n",
    "    X_train = X_train_val[train_index] #train, test로 데이터 나누기\n",
    "    Y_train = Y_train_val[train_index]  \n",
    "    X_val = X_train_val[val_index]\n",
    "    Y_val = Y_train_val[val_index]\n",
    "    model.fit(X_train, Y_train) #모델 학습\n",
    "\n",
    "    Y_val_pred = model.predict(X_val) #validation data 예측하기\n",
    "    result_Y_val.append(Y_val)\n",
    "    result_Y_val_pred.append(Y_val_pred)"
   ]
  },
  {
   "cell_type": "code",
   "execution_count": 12,
   "id": "perfect-algeria",
   "metadata": {},
   "outputs": [],
   "source": [
    "Y_pred=model.predict(X_test) #test data 예측하기"
   ]
  },
  {
   "cell_type": "code",
   "execution_count": 13,
   "id": "approximate-complaint",
   "metadata": {},
   "outputs": [],
   "source": [
    "#accuracy, precision, recall, f1-score, auc_score로 평가하는 함수\n",
    "def evaluation(Y_test,y_pred):\n",
    "    acc= accuracy_score(Y_test,y_pred)\n",
    "    print(\"accuracy : {}\".format(acc))\n",
    "    prec= precision_score(Y_test,y_pred)\n",
    "    print(\"precision : {}\".format(prec))\n",
    "    rec= recall_score(Y_test,y_pred)\n",
    "    print(\"recall: {}\".format(rec))\n",
    "    f1= f1_score(Y_test,y_pred)\n",
    "    print(\"F1-Score : {}\".format(f1))\n",
    "    auc_score=roc_auc_score(Y_test,y_pred)\n",
    "    print(\"auc_score: {}\".format(auc_score))\n"
   ]
  },
  {
   "cell_type": "code",
   "execution_count": 14,
   "id": "useful-discount",
   "metadata": {},
   "outputs": [
    {
     "name": "stdout",
     "output_type": "stream",
     "text": [
      "1 번째 cross validation\n",
      "accuracy : 0.9521875\n",
      "precision : 0.9550806803314436\n",
      "recall: 0.9776785714285714\n",
      "F1-Score : 0.9662475181998676\n",
      "auc_score: 0.9351934523809524\n",
      "\n",
      "\n",
      "2 번째 cross validation\n",
      "accuracy : 0.95125\n",
      "precision : 0.9538327526132404\n",
      "recall: 0.9776785714285714\n",
      "F1-Score : 0.9656084656084656\n",
      "auc_score: 0.9336309523809525\n",
      "\n",
      "\n",
      "3 번째 cross validation\n",
      "accuracy : 0.9471875\n",
      "precision : 0.9559665345662703\n",
      "recall: 0.9691964285714286\n",
      "F1-Score : 0.962536023054755\n",
      "auc_score: 0.932514880952381\n",
      "\n",
      "\n",
      "4 번째 cross validation\n",
      "accuracy : 0.9509375\n",
      "precision : 0.9586085424922941\n",
      "recall: 0.971875\n",
      "F1-Score : 0.9651961870982043\n",
      "auc_score: 0.9369791666666667\n",
      "\n",
      "\n",
      "5 번째 cross validation\n",
      "accuracy : 0.9546875\n",
      "precision : 0.958826106000876\n",
      "recall: 0.9772321428571429\n",
      "F1-Score : 0.9679416316604025\n",
      "auc_score: 0.9396577380952381\n",
      "\n",
      "\n"
     ]
    }
   ],
   "source": [
    "#매 fold마다 평가하기\n",
    "for i in range(k):\n",
    "    print(\"{} 번째 cross validation\".format(i+1))\n",
    "    evaluation(result_Y_val[i],result_Y_val_pred[i])\n",
    "    print(\"\\n\")"
   ]
  },
  {
   "cell_type": "code",
   "execution_count": 15,
   "id": "cardiac-orbit",
   "metadata": {},
   "outputs": [
    {
     "name": "stdout",
     "output_type": "stream",
     "text": [
      "accuracy : 0.954\n",
      "precision : 0.9602392681210415\n",
      "recall: 0.9746428571428571\n",
      "F1-Score : 0.967387451258419\n",
      "auc_score: 0.9402380952380953\n"
     ]
    }
   ],
   "source": [
    "evaluation(Y_test,Y_pred) #test data의 성능 평가"
   ]
  },
  {
   "cell_type": "code",
   "execution_count": 16,
   "id": "global-assault",
   "metadata": {},
   "outputs": [],
   "source": [
    "import matplotlib.pyplot as plt"
   ]
  },
  {
   "cell_type": "code",
   "execution_count": 17,
   "id": "reflected-relative",
   "metadata": {},
   "outputs": [
    {
     "data": {
      "image/png": "[encoded data removed]",
      "text/plain": [
       "<Figure size 288x288 with 2 Axes>"
      ]
     },
     "metadata": {
      "needs_background": "light"
     },
     "output_type": "display_data"
    }
   ],
   "source": [
    "LABELS = ['Normal', 'Fraud']\n",
    "conf_matrix = confusion_matrix(Y_test, Y_pred)\n",
    "plt.figure(figsize=(4, 4))\n",
    "sns.heatmap(conf_matrix, xticklabels=LABELS, yticklabels=LABELS, annot=True, fmt=\"d\");\n",
    "plt.title(\"Confusion matrix\")\n",
    "plt.ylabel('True class')\n",
    "plt.xlabel('Predicted class')\n",
    "plt.show()\n"
   ]
  },
  {
   "cell_type": "code",
   "execution_count": 18,
   "id": "affiliated-authorization",
   "metadata": {},
   "outputs": [],
   "source": [
    "X_real_test = np.load('new_peminer_test_features.npy') #test data 불러오기"
   ]
  },
  {
   "cell_type": "code",
   "execution_count": 19,
   "id": "geographic-bottom",
   "metadata": {},
   "outputs": [],
   "source": [
    "scaler = StandardScaler()\n",
    "X_real_test_scaler = scaler.fit_transform(X_real_test) #scaler 적용"
   ]
  },
  {
   "cell_type": "code",
   "execution_count": 20,
   "id": "basic-leader",
   "metadata": {},
   "outputs": [],
   "source": [
    "Y_real_test=model.predict(X_real_test_scaler) #학습"
   ]
  },
  {
   "cell_type": "code",
   "execution_count": 21,
   "id": "hydraulic-seven",
   "metadata": {},
   "outputs": [
    {
     "data": {
      "text/plain": [
       "array([0, 1, 1, ..., 1, 0, 1])"
      ]
     },
     "execution_count": 21,
     "metadata": {},
     "output_type": "execute_result"
    }
   ],
   "source": [
    "Y_real_test"
   ]
  },
  {
   "cell_type": "code",
   "execution_count": 22,
   "id": "floppy-globe",
   "metadata": {},
   "outputs": [],
   "source": [
    "Y_real_test=np.array(Y_real_test)"
   ]
  },
  {
   "cell_type": "code",
   "execution_count": 23,
   "id": "vocal-understanding",
   "metadata": {},
   "outputs": [],
   "source": [
    "np.savetxt('new_peminer_test_result.csv',Y_real_test,fmt='%d') #csv 파일로 저장"
   ]
  },
  {
   "cell_type": "code",
   "execution_count": 24,
   "id": "patent-copyright",
   "metadata": {},
   "outputs": [],
   "source": [
    "test_normal=0\n",
    "test_attack=0\n",
    "for i in range(len(Y_real_test)):\n",
    "    if Y_real_test[i]==0:\n",
    "        test_normal=test_normal+1\n",
    "    elif Y_real_test[i]==1:\n",
    "        test_attack=test_attack+1"
   ]
  },
  {
   "cell_type": "code",
   "execution_count": 25,
   "id": "stretch-satisfaction",
   "metadata": {},
   "outputs": [
    {
     "name": "stdout",
     "output_type": "stream",
     "text": [
      "데이터의 분포\n",
      " test_normal data : 8016\n",
      " test_attack data : 11984\n",
      "\n"
     ]
    }
   ],
   "source": [
    "print(\"데이터의 분포\\n test_normal data : {}\\n test_attack data : {}\\n\".format(test_normal, test_attack)) #데이터 분포 확인"
   ]
  },
  {
   "cell_type": "code",
   "execution_count": null,
   "id": "proper-latino",
   "metadata": {},
   "outputs": [],
   "source": []
  },
  {
   "cell_type": "code",
   "execution_count": null,
   "id": "vulnerable-wheel",
   "metadata": {},
   "outputs": [],
   "source": []
  }
 ],
 "metadata": {
  "kernelspec": {
   "display_name": "Python 3",
   "language": "python",
   "name": "python3"
  },
  "language_info": {
   "codemirror_mode": {
    "name": "ipython",
    "version": 3
   },
   "file_extension": ".py",
   "mimetype": "text/x-python",
   "name": "python",
   "nbconvert_exporter": "python",
   "pygments_lexer": "ipython3",
   "version": "3.7.9"
  }
 },
 "nbformat": 4,
 "nbformat_minor": 5
}
