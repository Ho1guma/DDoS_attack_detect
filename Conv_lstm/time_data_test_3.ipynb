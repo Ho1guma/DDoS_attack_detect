{
 "cells": [
  {
   "cell_type": "code",
   "execution_count": 1,
   "id": "threatened-symphony",
   "metadata": {},
   "outputs": [],
   "source": [
    "import numpy as np\n",
    "import pandas as pd\n",
    "import matplotlib.pyplot as plt"
   ]
  },
  {
   "cell_type": "code",
   "execution_count": 2,
   "id": "green-jacket",
   "metadata": {},
   "outputs": [],
   "source": [
    "normal=[]\n",
    "for i in range(3):\n",
    "    normal.append(pd.read_csv('new_data/normal'+str(i)+'.csv',error_bad_lines=False))"
   ]
  },
  {
   "cell_type": "code",
   "execution_count": 3,
   "id": "skilled-search",
   "metadata": {},
   "outputs": [],
   "source": [
    "attack=pd.read_csv('new_data/attack.csv',error_bad_lines=False)"
   ]
  },
  {
   "cell_type": "code",
   "execution_count": 4,
   "id": "first-membership",
   "metadata": {},
   "outputs": [],
   "source": [
    "for i in range(len(normal)):\n",
    "    normal[i]=normal[i].astype({\"_ws.col.UTCtime\":'int','tcp.srcport': 'int','tcp.dstport': 'int','tcp.len': 'int','tcp.seq':'int','tcp.ack': 'int'})"
   ]
  },
  {
   "cell_type": "code",
   "execution_count": 5,
   "id": "alternate-elephant",
   "metadata": {},
   "outputs": [],
   "source": [
    "attack=attack.astype({\"_ws.col.UTCtime\":'int','tcp.srcport': 'int','tcp.dstport': 'int','tcp.len': 'int','tcp.seq':'int','tcp.ack': 'int'})"
   ]
  },
  {
   "cell_type": "code",
   "execution_count": null,
   "id": "drawn-canadian",
   "metadata": {},
   "outputs": [],
   "source": []
  }
 ],
 "metadata": {
  "kernelspec": {
   "display_name": "Python 3",
   "language": "python",
   "name": "python3"
  },
  "language_info": {
   "codemirror_mode": {
    "name": "ipython",
    "version": 3
   },
   "file_extension": ".py",
   "mimetype": "text/x-python",
   "name": "python",
   "nbconvert_exporter": "python",
   "pygments_lexer": "ipython3",
   "version": "3.7.10"
  }
 },
 "nbformat": 4,
 "nbformat_minor": 5
}
