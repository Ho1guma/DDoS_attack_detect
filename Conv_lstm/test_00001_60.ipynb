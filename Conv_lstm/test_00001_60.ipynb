{
 "cells": [
  {
   "cell_type": "code",
   "execution_count": 1,
   "id": "indoor-thesaurus",
   "metadata": {},
   "outputs": [],
   "source": [
    "import tensorflow as tf"
   ]
  },
  {
   "cell_type": "code",
   "execution_count": 2,
   "id": "loved-corporation",
   "metadata": {},
   "outputs": [
    {
     "name": "stdout",
     "output_type": "stream",
     "text": [
      "[name: \"/device:CPU:0\"\n",
      "device_type: \"CPU\"\n",
      "memory_limit: 268435456\n",
      "locality {\n",
      "}\n",
      "incarnation: 8194080352843657248\n",
      ", name: \"/device:XLA_CPU:0\"\n",
      "device_type: \"XLA_CPU\"\n",
      "memory_limit: 17179869184\n",
      "locality {\n",
      "}\n",
      "incarnation: 12730713948950318760\n",
      "physical_device_desc: \"device: XLA_CPU device\"\n",
      ", name: \"/device:GPU:0\"\n",
      "device_type: \"GPU\"\n",
      "memory_limit: 10521319872\n",
      "locality {\n",
      "  bus_id: 1\n",
      "  links {\n",
      "  }\n",
      "}\n",
      "incarnation: 16750402623868818297\n",
      "physical_device_desc: \"device: 0, name: GeForce GTX 1080 Ti, pci bus id: 0000:09:00.0, compute capability: 6.1\"\n",
      ", name: \"/device:XLA_GPU:0\"\n",
      "device_type: \"XLA_GPU\"\n",
      "memory_limit: 17179869184\n",
      "locality {\n",
      "}\n",
      "incarnation: 13625559794050065776\n",
      "physical_device_desc: \"device: XLA_GPU device\"\n",
      "]\n"
     ]
    }
   ],
   "source": [
    "from tensorflow.python.client import device_lib\n",
    "print(device_lib.list_local_devices())"
   ]
  },
  {
   "cell_type": "code",
   "execution_count": 3,
   "id": "younger-tobacco",
   "metadata": {},
   "outputs": [],
   "source": [
    "tf.debugging.set_log_device_placement(True)"
   ]
  },
  {
   "cell_type": "code",
   "execution_count": 4,
   "id": "greatest-morgan",
   "metadata": {},
   "outputs": [],
   "source": [
    "gpus = tf.config.experimental.list_physical_devices('GPU')\n",
    "if gpus:\n",
    "  try:\n",
    "    tf.config.experimental.set_memory_growth(gpus[0], True)\n",
    "  except RuntimeError as e:\n",
    "    # 프로그램 시작시에 메모리 증가가 설정되어야만 합니다\n",
    "    print(e)"
   ]
  },
  {
   "cell_type": "code",
   "execution_count": 5,
   "id": "dutch-latex",
   "metadata": {},
   "outputs": [
    {
     "name": "stdout",
     "output_type": "stream",
     "text": [
      "importing Jupyter notebook from time_data_test.ipynb\n"
     ]
    }
   ],
   "source": [
    "import numpy as np\n",
    "import pandas as pd\n",
    "import matplotlib.pyplot as plt\n",
    "import import_ipynb\n",
    "import time_data_test as readdata"
   ]
  },
  {
   "cell_type": "code",
   "execution_count": 6,
   "id": "southwest-eugene",
   "metadata": {},
   "outputs": [],
   "source": [
    "from sklearn.model_selection import train_test_split\n",
    "from tensorflow.keras.models import Sequential, load_model, save_model\n",
    "from tensorflow.keras.layers import LSTM, Dense, RepeatVector, Masking, Bidirectional\n",
    "import tensorflow as tf\n",
    "from sklearn.preprocessing import StandardScaler\n",
    "\n"
   ]
  },
  {
   "cell_type": "markdown",
   "id": "beginning-planner",
   "metadata": {},
   "source": [
    "<h1> normal data</h1>"
   ]
  },
  {
   "cell_type": "code",
   "execution_count": 7,
   "id": "concrete-nomination",
   "metadata": {},
   "outputs": [],
   "source": [
    "#normal data를 그룹핑하고 100개가 넘는 그룹을 골라내기\n",
    "groupset=[]\n",
    "over_100_group=[]\n",
    "for i in range(len(readdata.normal)):\n",
    "    gb = readdata.normal[i].groupby(['_ws.col.Protocol','ip.src','ip.dst','tcp.srcport'])\n",
    "    for key, group in gb:\n",
    "        group = np.asarray(group)\n",
    "        if len(group)>100:\n",
    "            over_100_group.append(group)\n",
    "        else :\n",
    "            groupset.append(group)"
   ]
  },
  {
   "cell_type": "code",
   "execution_count": 8,
   "id": "difficult-monster",
   "metadata": {},
   "outputs": [],
   "source": [
    "for i in range(len(readdata.normal)):\n",
    "    gb = readdata.normal[i].groupby(['_ws.col.Protocol','ip.src','ip.dst','tcp.dstport'])\n",
    "    for key, group in gb:\n",
    "        group = np.asarray(group)\n",
    "        if len(group)>100:\n",
    "            over_100_group.append(group)\n",
    "        else :\n",
    "            groupset.append(group)"
   ]
  },
  {
   "cell_type": "code",
   "execution_count": 9,
   "id": "isolated-mobility",
   "metadata": {},
   "outputs": [],
   "source": [
    "#normal data 100개가 넘는 그룹 100개씩 잘라서 그룹셋에 넣기\n",
    "for i in range(len(over_100_group)):\n",
    "    for j in range(0,len(over_100_group[i]),100):\n",
    "        groupset.append(over_100_group[i][j:j+100])\n"
   ]
  },
  {
   "cell_type": "code",
   "execution_count": 10,
   "id": "dental-reasoning",
   "metadata": {},
   "outputs": [
    {
     "data": {
      "text/plain": [
       "1339219"
      ]
     },
     "execution_count": 10,
     "metadata": {},
     "output_type": "execute_result"
    }
   ],
   "source": [
    "len(groupset)"
   ]
  },
  {
   "cell_type": "code",
   "execution_count": 11,
   "id": "nonprofit-manufacturer",
   "metadata": {},
   "outputs": [],
   "source": [
    "for i in range(len(groupset)):\n",
    "    groupset[i][:,0]=groupset[i][:,0]-groupset[i][0][0]"
   ]
  },
  {
   "cell_type": "code",
   "execution_count": 12,
   "id": "proprietary-creativity",
   "metadata": {},
   "outputs": [],
   "source": [
    "#100개가 넘는것은 없는지 확인\n",
    "for i in range(len(groupset)):\n",
    "    if len(groupset[i])>100:\n",
    "        print(i)"
   ]
  },
  {
   "cell_type": "code",
   "execution_count": 13,
   "id": "vital-hollow",
   "metadata": {},
   "outputs": [],
   "source": [
    "X=[]\n",
    "for i in range(len(groupset)):\n",
    "    temp=np.delete(groupset[i],[1,2,3,4,5],1)\n",
    "    num=100-len(temp)\n",
    "    X.append(np.pad(temp,((0,num),(0,0)),'constant', constant_values=-1))"
   ]
  },
  {
   "cell_type": "code",
   "execution_count": 14,
   "id": "organized-violation",
   "metadata": {},
   "outputs": [],
   "source": [
    "X_data=np.asarray(X)"
   ]
  },
  {
   "cell_type": "code",
   "execution_count": 15,
   "id": "ideal-custom",
   "metadata": {},
   "outputs": [
    {
     "data": {
      "text/plain": [
       "1339219"
      ]
     },
     "execution_count": 15,
     "metadata": {},
     "output_type": "execute_result"
    }
   ],
   "source": [
    "len(X_data)"
   ]
  },
  {
   "cell_type": "code",
   "execution_count": 16,
   "id": "improving-performance",
   "metadata": {},
   "outputs": [],
   "source": [
    "Y_data=[]\n",
    "for i in range(len(X_data)):\n",
    "    Y_data.append(0)"
   ]
  },
  {
   "cell_type": "code",
   "execution_count": 17,
   "id": "several-prime",
   "metadata": {},
   "outputs": [
    {
     "data": {
      "text/plain": [
       "1339219"
      ]
     },
     "execution_count": 17,
     "metadata": {},
     "output_type": "execute_result"
    }
   ],
   "source": [
    "len(Y_data)"
   ]
  },
  {
   "cell_type": "code",
   "execution_count": 18,
   "id": "confidential-protocol",
   "metadata": {},
   "outputs": [
    {
     "data": {
      "text/plain": [
       "(1339219, 100, 4)"
      ]
     },
     "execution_count": 18,
     "metadata": {},
     "output_type": "execute_result"
    }
   ],
   "source": [
    "X_data.shape"
   ]
  },
  {
   "cell_type": "markdown",
   "id": "collectible-seeker",
   "metadata": {},
   "source": [
    "공격데이터"
   ]
  },
  {
   "cell_type": "code",
   "execution_count": 20,
   "id": "intellectual-factor",
   "metadata": {},
   "outputs": [],
   "source": [
    "groupset_a=[]\n",
    "over_100_group_a=[]\n",
    "gb = readdata.attack.groupby(['_ws.col.Protocol','ip.src','ip.dst','tcp.srcport'])\n",
    "for key, group in gb:\n",
    "    group = np.asarray(group)\n",
    "    if len(group)>100:\n",
    "        over_100_group_a.append(group)\n",
    "    else :\n",
    "        groupset_a.append(group)\n"
   ]
  },
  {
   "cell_type": "code",
   "execution_count": 21,
   "id": "cloudy-logistics",
   "metadata": {},
   "outputs": [],
   "source": [
    "gb = readdata.attack.groupby(['_ws.col.Protocol','ip.src','ip.dst','tcp.dstport'])\n",
    "for key, group in gb:\n",
    "    group = np.asarray(group)\n",
    "    if len(group)>100:\n",
    "        over_100_group_a.append(group)\n",
    "    else :\n",
    "        groupset_a.append(group)\n"
   ]
  },
  {
   "cell_type": "code",
   "execution_count": 23,
   "id": "universal-louisiana",
   "metadata": {},
   "outputs": [],
   "source": [
    "for i in range(len(over_100_group_a)):\n",
    "    for j in range(0,len(over_100_group_a[i]),100):\n",
    "        groupset_a.append(over_100_group_a[i][j:j+100])"
   ]
  },
  {
   "cell_type": "code",
   "execution_count": 25,
   "id": "identical-soldier",
   "metadata": {},
   "outputs": [],
   "source": [
    "for i in range(len(groupset_a)):\n",
    "    groupset_a[i][:,0]=groupset_a[i][:,0]-groupset_a[i][0][0]"
   ]
  },
  {
   "cell_type": "code",
   "execution_count": 27,
   "id": "urban-programmer",
   "metadata": {},
   "outputs": [],
   "source": [
    "X_a=[]\n",
    "for i in range(len(groupset_a)):\n",
    "    temp=np.delete(groupset_a[i],[1,2,3,4,5],1)\n",
    "    num=100-len(temp)\n",
    "    X_a.append(np.pad(temp,((0,num),(0,0)),'constant', constant_values=-1))"
   ]
  },
  {
   "cell_type": "code",
   "execution_count": 29,
   "id": "ambient-saver",
   "metadata": {},
   "outputs": [],
   "source": [
    "Y_a=[]\n",
    "for i in range(len(X_a)):\n",
    "    Y_a.append(1)"
   ]
  },
  {
   "cell_type": "code",
   "execution_count": 30,
   "id": "interesting-broadway",
   "metadata": {},
   "outputs": [],
   "source": [
    "X_attack_data=np.asarray(X_a)\n",
    "Y_attack_data=np.asarray(Y_a)"
   ]
  },
  {
   "cell_type": "code",
   "execution_count": 31,
   "id": "transparent-mother",
   "metadata": {},
   "outputs": [],
   "source": [
    "X_total=np.concatenate((X_data,X_attack_data), axis=0)\n",
    "#index : 0~891936 까지 normal, 총 891937"
   ]
  },
  {
   "cell_type": "code",
   "execution_count": 32,
   "id": "fewer-simulation",
   "metadata": {},
   "outputs": [
    {
     "data": {
      "text/plain": [
       "(1339578, 100, 4)"
      ]
     },
     "execution_count": 32,
     "metadata": {},
     "output_type": "execute_result"
    }
   ],
   "source": [
    "X_total.shape"
   ]
  },
  {
   "cell_type": "code",
   "execution_count": 33,
   "id": "beneficial-steam",
   "metadata": {},
   "outputs": [],
   "source": [
    "Y_total=np.concatenate((Y_data,Y_attack_data), axis=0)"
   ]
  },
  {
   "cell_type": "code",
   "execution_count": 34,
   "id": "systematic-restaurant",
   "metadata": {},
   "outputs": [
    {
     "data": {
      "text/plain": [
       "(1339578,)"
      ]
     },
     "execution_count": 34,
     "metadata": {},
     "output_type": "execute_result"
    }
   ],
   "source": [
    "Y_total.shape"
   ]
  },
  {
   "cell_type": "code",
   "execution_count": 36,
   "id": "international-evening",
   "metadata": {},
   "outputs": [],
   "source": [
    "X_train, X_test, Y_train, Y_test = train_test_split(X_total,Y_total, test_size=0.2, shuffle=True, stratify=Y_total, random_state=101)"
   ]
  },
  {
   "cell_type": "code",
   "execution_count": 37,
   "id": "hundred-boxing",
   "metadata": {},
   "outputs": [
    {
     "name": "stdout",
     "output_type": "stream",
     "text": [
      "(1071662, 100, 4) (1071662,) (267916, 100, 4) (267916,)\n"
     ]
    }
   ],
   "source": [
    "print(X_train.shape,Y_train.shape,X_test.shape,Y_test.shape)"
   ]
  },
  {
   "cell_type": "code",
   "execution_count": 38,
   "id": "reliable-lindsay",
   "metadata": {},
   "outputs": [],
   "source": [
    "X_train=X_train.astype('float32')\n",
    "Y_train=Y_train.astype('float32')\n",
    "X_test=X_test.astype('float32')\n",
    "Y_test=Y_test.astype('float32')"
   ]
  },
  {
   "cell_type": "code",
   "execution_count": 39,
   "id": "contrary-robertson",
   "metadata": {},
   "outputs": [],
   "source": [
    "from imblearn.over_sampling import SMOTE"
   ]
  },
  {
   "cell_type": "code",
   "execution_count": 40,
   "id": "tutorial-recycling",
   "metadata": {},
   "outputs": [],
   "source": [
    "smote = SMOTE(random_state=0)"
   ]
  },
  {
   "cell_type": "code",
   "execution_count": 41,
   "id": "altered-fence",
   "metadata": {},
   "outputs": [],
   "source": [
    "X_train = np.reshape(X_train,(1071662,400))"
   ]
  },
  {
   "cell_type": "code",
   "execution_count": 42,
   "id": "corrected-deadline",
   "metadata": {},
   "outputs": [
    {
     "name": "stdout",
     "output_type": "stream",
     "text": [
      "SMOTE 적용 전 학습용 피처/레이블 데이터 세트:  (1071662, 400) (1071662,)\n",
      "SMOTE 적용 후 학습용 피처/레이블 데이터 세트:  (2142750, 400) (2142750,)\n",
      "SMOTE 적용 후 레이블 값 분포: \n",
      " 0.0    1071375\n",
      "1.0    1071375\n",
      "dtype: int64\n"
     ]
    }
   ],
   "source": [
    "X_train_over, Y_train_over = smote.fit_sample(X_train, Y_train)\n",
    "\n",
    "print('SMOTE 적용 전 학습용 피처/레이블 데이터 세트: ', X_train.shape, Y_train.shape)\n",
    "print('SMOTE 적용 후 학습용 피처/레이블 데이터 세트: ', X_train_over.shape, Y_train_over.shape)\n",
    "print('SMOTE 적용 후 레이블 값 분포: \\n', pd.Series(Y_train_over).value_counts())"
   ]
  },
  {
   "cell_type": "code",
   "execution_count": 43,
   "id": "passive-tournament",
   "metadata": {},
   "outputs": [],
   "source": [
    "X_train = np.reshape(X_train,(1071662,100,4))\n",
    "X_train_over = np.reshape(X_train_over,(2142750,100,4))"
   ]
  },
  {
   "cell_type": "code",
   "execution_count": 44,
   "id": "requested-fundamentals",
   "metadata": {},
   "outputs": [
    {
     "name": "stdout",
     "output_type": "stream",
     "text": [
      "(2142750, 100, 4) (2142750,)\n"
     ]
    }
   ],
   "source": [
    "print(X_train_over.shape, Y_train_over.shape)"
   ]
  },
  {
   "cell_type": "code",
   "execution_count": 45,
   "id": "amino-finding",
   "metadata": {},
   "outputs": [],
   "source": [
    "X_val, X_test, Y_val, Y_test = train_test_split(X_test,Y_test, test_size=0.5,shuffle=True,stratify=Y_test,random_state=101)"
   ]
  },
  {
   "cell_type": "code",
   "execution_count": 46,
   "id": "handmade-charity",
   "metadata": {},
   "outputs": [
    {
     "name": "stdout",
     "output_type": "stream",
     "text": [
      "(2142750, 100, 4) (2142750,) (133958, 100, 4) (133958,) (133958, 100, 4) (133958,)\n"
     ]
    }
   ],
   "source": [
    "print(X_train_over.shape,Y_train_over.shape,X_val.shape,Y_val.shape,X_test.shape,Y_test.shape)"
   ]
  },
  {
   "cell_type": "code",
   "execution_count": 47,
   "id": "incorporated-plain",
   "metadata": {},
   "outputs": [],
   "source": [
    "#float type으롤 변경\n",
    "X_train_over=X_train_over.astype('float32')\n",
    "Y_train_over=Y_train_over.astype('float32')\n",
    "X_test=X_test.astype('float32')\n",
    "Y_test=Y_test.astype('float32')\n",
    "X_val=X_val.astype('float32')\n",
    "Y_val=Y_val.astype('float32')"
   ]
  },
  {
   "cell_type": "code",
   "execution_count": 50,
   "id": "light-tunisia",
   "metadata": {
    "scrolled": true
   },
   "outputs": [
    {
     "name": "stdout",
     "output_type": "stream",
     "text": [
      "Executing op RangeDataset in device /job:localhost/replica:0/task:0/device:CPU:0\n",
      "Executing op RepeatDataset in device /job:localhost/replica:0/task:0/device:CPU:0\n",
      "Executing op MapDataset in device /job:localhost/replica:0/task:0/device:CPU:0\n",
      "Executing op PrefetchDataset in device /job:localhost/replica:0/task:0/device:CPU:0\n",
      "Executing op FlatMapDataset in device /job:localhost/replica:0/task:0/device:CPU:0\n",
      "Executing op TensorDataset in device /job:localhost/replica:0/task:0/device:CPU:0\n",
      "Executing op RepeatDataset in device /job:localhost/replica:0/task:0/device:CPU:0\n",
      "Executing op ZipDataset in device /job:localhost/replica:0/task:0/device:CPU:0\n",
      "Executing op ParallelMapDataset in device /job:localhost/replica:0/task:0/device:CPU:0\n",
      "Executing op ModelDataset in device /job:localhost/replica:0/task:0/device:CPU:0\n",
      "Epoch 1/60\n",
      "Executing op VarHandleOp in device /job:localhost/replica:0/task:0/device:GPU:0\n",
      "Executing op VarHandleOp in device /job:localhost/replica:0/task:0/device:GPU:0\n",
      "Executing op VarHandleOp in device /job:localhost/replica:0/task:0/device:GPU:0\n",
      "Executing op VarHandleOp in device /job:localhost/replica:0/task:0/device:GPU:0\n",
      "Executing op VarHandleOp in device /job:localhost/replica:0/task:0/device:GPU:0\n",
      "Executing op VarHandleOp in device /job:localhost/replica:0/task:0/device:GPU:0\n",
      "Executing op VarHandleOp in device /job:localhost/replica:0/task:0/device:GPU:0\n",
      "Executing op VarHandleOp in device /job:localhost/replica:0/task:0/device:GPU:0\n",
      "Executing op VarHandleOp in device /job:localhost/replica:0/task:0/device:GPU:0\n",
      "Executing op VarHandleOp in device /job:localhost/replica:0/task:0/device:GPU:0\n",
      "Executing op VarHandleOp in device /job:localhost/replica:0/task:0/device:GPU:0\n",
      "Executing op VarHandleOp in device /job:localhost/replica:0/task:0/device:GPU:0\n",
      "Executing op VarHandleOp in device /job:localhost/replica:0/task:0/device:GPU:0\n",
      "Executing op VarHandleOp in device /job:localhost/replica:0/task:0/device:GPU:0\n",
      "Executing op VarHandleOp in device /job:localhost/replica:0/task:0/device:GPU:0\n",
      "Executing op VarHandleOp in device /job:localhost/replica:0/task:0/device:GPU:0\n",
      "Executing op VarHandleOp in device /job:localhost/replica:0/task:0/device:GPU:0\n",
      "Executing op VarHandleOp in device /job:localhost/replica:0/task:0/device:GPU:0\n",
      "Executing op VarHandleOp in device /job:localhost/replica:0/task:0/device:GPU:0\n",
      "Executing op VarHandleOp in device /job:localhost/replica:0/task:0/device:GPU:0\n",
      "Executing op VarHandleOp in device /job:localhost/replica:0/task:0/device:GPU:0\n",
      "Executing op VarHandleOp in device /job:localhost/replica:0/task:0/device:GPU:0\n",
      "Executing op VarHandleOp in device /job:localhost/replica:0/task:0/device:GPU:0\n",
      "Executing op VarHandleOp in device /job:localhost/replica:0/task:0/device:GPU:0\n",
      "Executing op VarHandleOp in device /job:localhost/replica:0/task:0/device:GPU:0\n",
      "Executing op __inference_train_function_29357 in device /job:localhost/replica:0/task:0/device:GPU:0\n",
      "33480/33481 [============================>.] - ETA: 0s - loss: 0.2991 - accuracy: 0.9951Executing op RangeDataset in device /job:localhost/replica:0/task:0/device:CPU:0\n",
      "Executing op RepeatDataset in device /job:localhost/replica:0/task:0/device:CPU:0\n",
      "Executing op MapDataset in device /job:localhost/replica:0/task:0/device:CPU:0\n",
      "Executing op PrefetchDataset in device /job:localhost/replica:0/task:0/device:CPU:0\n",
      "Executing op FlatMapDataset in device /job:localhost/replica:0/task:0/device:CPU:0\n",
      "Executing op TensorDataset in device /job:localhost/replica:0/task:0/device:CPU:0\n",
      "Executing op RepeatDataset in device /job:localhost/replica:0/task:0/device:CPU:0\n",
      "Executing op ZipDataset in device /job:localhost/replica:0/task:0/device:CPU:0\n",
      "Executing op ParallelMapDataset in device /job:localhost/replica:0/task:0/device:CPU:0\n",
      "Executing op ModelDataset in device /job:localhost/replica:0/task:0/device:CPU:0\n",
      "Executing op __inference_test_function_99854 in device /job:localhost/replica:0/task:0/device:GPU:0\n",
      "Executing op DeleteIterator in device /job:localhost/replica:0/task:0/device:CPU:0\n",
      "33481/33481 [==============================] - 502s 15ms/step - loss: 0.2991 - accuracy: 0.9951 - val_loss: 0.0388 - val_accuracy: 0.9987\n",
      "Epoch 2/60\n",
      "33481/33481 [==============================] - ETA: 0s - loss: 0.0322 - accuracy: 0.9995Executing op RangeDataset in device /job:localhost/replica:0/task:0/device:CPU:0\n",
      "Executing op RepeatDataset in device /job:localhost/replica:0/task:0/device:CPU:0\n",
      "Executing op MapDataset in device /job:localhost/replica:0/task:0/device:CPU:0\n",
      "Executing op PrefetchDataset in device /job:localhost/replica:0/task:0/device:CPU:0\n",
      "Executing op FlatMapDataset in device /job:localhost/replica:0/task:0/device:CPU:0\n",
      "Executing op TensorDataset in device /job:localhost/replica:0/task:0/device:CPU:0\n",
      "Executing op RepeatDataset in device /job:localhost/replica:0/task:0/device:CPU:0\n",
      "Executing op ZipDataset in device /job:localhost/replica:0/task:0/device:CPU:0\n",
      "Executing op ParallelMapDataset in device /job:localhost/replica:0/task:0/device:CPU:0\n",
      "Executing op ModelDataset in device /job:localhost/replica:0/task:0/device:CPU:0\n",
      "33481/33481 [==============================] - 500s 15ms/step - loss: 0.0322 - accuracy: 0.9995 - val_loss: 0.0307 - val_accuracy: 0.9991\n",
      "Epoch 3/60\n",
      "33481/33481 [==============================] - ETA: 0s - loss: 0.0276 - accuracy: 0.9995Executing op RangeDataset in device /job:localhost/replica:0/task:0/device:CPU:0\n",
      "Executing op RepeatDataset in device /job:localhost/replica:0/task:0/device:CPU:0\n",
      "Executing op MapDataset in device /job:localhost/replica:0/task:0/device:CPU:0\n",
      "Executing op PrefetchDataset in device /job:localhost/replica:0/task:0/device:CPU:0\n",
      "Executing op FlatMapDataset in device /job:localhost/replica:0/task:0/device:CPU:0\n",
      "Executing op TensorDataset in device /job:localhost/replica:0/task:0/device:CPU:0\n",
      "Executing op RepeatDataset in device /job:localhost/replica:0/task:0/device:CPU:0\n",
      "Executing op ZipDataset in device /job:localhost/replica:0/task:0/device:CPU:0\n",
      "Executing op ParallelMapDataset in device /job:localhost/replica:0/task:0/device:CPU:0\n",
      "Executing op ModelDataset in device /job:localhost/replica:0/task:0/device:CPU:0\n",
      "33481/33481 [==============================] - 500s 15ms/step - loss: 0.0276 - accuracy: 0.9995 - val_loss: 0.0282 - val_accuracy: 0.9989\n",
      "Epoch 4/60\n",
      "33481/33481 [==============================] - ETA: 0s - loss: 0.0253 - accuracy: 0.9996Executing op RangeDataset in device /job:localhost/replica:0/task:0/device:CPU:0\n",
      "Executing op RepeatDataset in device /job:localhost/replica:0/task:0/device:CPU:0\n",
      "Executing op MapDataset in device /job:localhost/replica:0/task:0/device:CPU:0\n",
      "Executing op PrefetchDataset in device /job:localhost/replica:0/task:0/device:CPU:0\n",
      "Executing op FlatMapDataset in device /job:localhost/replica:0/task:0/device:CPU:0\n",
      "Executing op TensorDataset in device /job:localhost/replica:0/task:0/device:CPU:0\n",
      "Executing op RepeatDataset in device /job:localhost/replica:0/task:0/device:CPU:0\n",
      "Executing op ZipDataset in device /job:localhost/replica:0/task:0/device:CPU:0\n",
      "Executing op ParallelMapDataset in device /job:localhost/replica:0/task:0/device:CPU:0\n",
      "Executing op ModelDataset in device /job:localhost/replica:0/task:0/device:CPU:0\n",
      "33481/33481 [==============================] - 500s 15ms/step - loss: 0.0253 - accuracy: 0.9996 - val_loss: 0.0259 - val_accuracy: 0.9991\n",
      "Epoch 5/60\n",
      "33481/33481 [==============================] - ETA: 0s - loss: 0.0232 - accuracy: 0.9997Executing op RangeDataset in device /job:localhost/replica:0/task:0/device:CPU:0\n",
      "Executing op RepeatDataset in device /job:localhost/replica:0/task:0/device:CPU:0\n",
      "Executing op MapDataset in device /job:localhost/replica:0/task:0/device:CPU:0\n",
      "Executing op PrefetchDataset in device /job:localhost/replica:0/task:0/device:CPU:0\n",
      "Executing op FlatMapDataset in device /job:localhost/replica:0/task:0/device:CPU:0\n",
      "Executing op TensorDataset in device /job:localhost/replica:0/task:0/device:CPU:0\n",
      "Executing op RepeatDataset in device /job:localhost/replica:0/task:0/device:CPU:0\n",
      "Executing op ZipDataset in device /job:localhost/replica:0/task:0/device:CPU:0\n",
      "Executing op ParallelMapDataset in device /job:localhost/replica:0/task:0/device:CPU:0\n",
      "Executing op ModelDataset in device /job:localhost/replica:0/task:0/device:CPU:0\n"
     ]
    },
    {
     "name": "stdout",
     "output_type": "stream",
     "text": [
      "33481/33481 [==============================] - 500s 15ms/step - loss: 0.0232 - accuracy: 0.9997 - val_loss: 0.0237 - val_accuracy: 0.9992\n",
      "Epoch 6/60\n",
      "33481/33481 [==============================] - ETA: 0s - loss: 0.0218 - accuracy: 0.9997Executing op RangeDataset in device /job:localhost/replica:0/task:0/device:CPU:0\n",
      "Executing op RepeatDataset in device /job:localhost/replica:0/task:0/device:CPU:0\n",
      "Executing op MapDataset in device /job:localhost/replica:0/task:0/device:CPU:0\n",
      "Executing op PrefetchDataset in device /job:localhost/replica:0/task:0/device:CPU:0\n",
      "Executing op FlatMapDataset in device /job:localhost/replica:0/task:0/device:CPU:0\n",
      "Executing op TensorDataset in device /job:localhost/replica:0/task:0/device:CPU:0\n",
      "Executing op RepeatDataset in device /job:localhost/replica:0/task:0/device:CPU:0\n",
      "Executing op ZipDataset in device /job:localhost/replica:0/task:0/device:CPU:0\n",
      "Executing op ParallelMapDataset in device /job:localhost/replica:0/task:0/device:CPU:0\n",
      "Executing op ModelDataset in device /job:localhost/replica:0/task:0/device:CPU:0\n",
      "33481/33481 [==============================] - 500s 15ms/step - loss: 0.0218 - accuracy: 0.9997 - val_loss: 0.0233 - val_accuracy: 0.9991\n",
      "Epoch 7/60\n",
      "33481/33481 [==============================] - ETA: 0s - loss: 0.0208 - accuracy: 0.9997Executing op RangeDataset in device /job:localhost/replica:0/task:0/device:CPU:0\n",
      "Executing op RepeatDataset in device /job:localhost/replica:0/task:0/device:CPU:0\n",
      "Executing op MapDataset in device /job:localhost/replica:0/task:0/device:CPU:0\n",
      "Executing op PrefetchDataset in device /job:localhost/replica:0/task:0/device:CPU:0\n",
      "Executing op FlatMapDataset in device /job:localhost/replica:0/task:0/device:CPU:0\n",
      "Executing op TensorDataset in device /job:localhost/replica:0/task:0/device:CPU:0\n",
      "Executing op RepeatDataset in device /job:localhost/replica:0/task:0/device:CPU:0\n",
      "Executing op ZipDataset in device /job:localhost/replica:0/task:0/device:CPU:0\n",
      "Executing op ParallelMapDataset in device /job:localhost/replica:0/task:0/device:CPU:0\n",
      "Executing op ModelDataset in device /job:localhost/replica:0/task:0/device:CPU:0\n",
      "33481/33481 [==============================] - 500s 15ms/step - loss: 0.0208 - accuracy: 0.9997 - val_loss: 0.0211 - val_accuracy: 0.9993\n",
      "Epoch 8/60\n",
      "33481/33481 [==============================] - ETA: 0s - loss: 0.0199 - accuracy: 0.9997Executing op RangeDataset in device /job:localhost/replica:0/task:0/device:CPU:0\n",
      "Executing op RepeatDataset in device /job:localhost/replica:0/task:0/device:CPU:0\n",
      "Executing op MapDataset in device /job:localhost/replica:0/task:0/device:CPU:0\n",
      "Executing op PrefetchDataset in device /job:localhost/replica:0/task:0/device:CPU:0\n",
      "Executing op FlatMapDataset in device /job:localhost/replica:0/task:0/device:CPU:0\n",
      "Executing op TensorDataset in device /job:localhost/replica:0/task:0/device:CPU:0\n",
      "Executing op RepeatDataset in device /job:localhost/replica:0/task:0/device:CPU:0\n",
      "Executing op ZipDataset in device /job:localhost/replica:0/task:0/device:CPU:0\n",
      "Executing op ParallelMapDataset in device /job:localhost/replica:0/task:0/device:CPU:0\n",
      "Executing op ModelDataset in device /job:localhost/replica:0/task:0/device:CPU:0\n",
      "33481/33481 [==============================] - 500s 15ms/step - loss: 0.0199 - accuracy: 0.9997 - val_loss: 0.0208 - val_accuracy: 0.9991\n",
      "Epoch 9/60\n",
      "33481/33481 [==============================] - ETA: 0s - loss: 0.0191 - accuracy: 0.9997Executing op RangeDataset in device /job:localhost/replica:0/task:0/device:CPU:0\n",
      "Executing op RepeatDataset in device /job:localhost/replica:0/task:0/device:CPU:0\n",
      "Executing op MapDataset in device /job:localhost/replica:0/task:0/device:CPU:0\n",
      "Executing op PrefetchDataset in device /job:localhost/replica:0/task:0/device:CPU:0\n",
      "Executing op FlatMapDataset in device /job:localhost/replica:0/task:0/device:CPU:0\n",
      "Executing op TensorDataset in device /job:localhost/replica:0/task:0/device:CPU:0\n",
      "Executing op RepeatDataset in device /job:localhost/replica:0/task:0/device:CPU:0\n",
      "Executing op ZipDataset in device /job:localhost/replica:0/task:0/device:CPU:0\n",
      "Executing op ParallelMapDataset in device /job:localhost/replica:0/task:0/device:CPU:0\n",
      "Executing op ModelDataset in device /job:localhost/replica:0/task:0/device:CPU:0\n",
      "33481/33481 [==============================] - 500s 15ms/step - loss: 0.0191 - accuracy: 0.9997 - val_loss: 0.0195 - val_accuracy: 0.9993\n",
      "Epoch 10/60\n",
      "33481/33481 [==============================] - ETA: 0s - loss: 0.0185 - accuracy: 0.9997Executing op RangeDataset in device /job:localhost/replica:0/task:0/device:CPU:0\n",
      "Executing op RepeatDataset in device /job:localhost/replica:0/task:0/device:CPU:0\n",
      "Executing op MapDataset in device /job:localhost/replica:0/task:0/device:CPU:0\n",
      "Executing op PrefetchDataset in device /job:localhost/replica:0/task:0/device:CPU:0\n",
      "Executing op FlatMapDataset in device /job:localhost/replica:0/task:0/device:CPU:0\n",
      "Executing op TensorDataset in device /job:localhost/replica:0/task:0/device:CPU:0\n",
      "Executing op RepeatDataset in device /job:localhost/replica:0/task:0/device:CPU:0\n",
      "Executing op ZipDataset in device /job:localhost/replica:0/task:0/device:CPU:0\n",
      "Executing op ParallelMapDataset in device /job:localhost/replica:0/task:0/device:CPU:0\n",
      "Executing op ModelDataset in device /job:localhost/replica:0/task:0/device:CPU:0\n",
      "33481/33481 [==============================] - 500s 15ms/step - loss: 0.0185 - accuracy: 0.9997 - val_loss: 0.0192 - val_accuracy: 0.9993\n",
      "Epoch 11/60\n",
      "33481/33481 [==============================] - ETA: 0s - loss: 0.0181 - accuracy: 0.9997Executing op RangeDataset in device /job:localhost/replica:0/task:0/device:CPU:0\n",
      "Executing op RepeatDataset in device /job:localhost/replica:0/task:0/device:CPU:0\n",
      "Executing op MapDataset in device /job:localhost/replica:0/task:0/device:CPU:0\n",
      "Executing op PrefetchDataset in device /job:localhost/replica:0/task:0/device:CPU:0\n",
      "Executing op FlatMapDataset in device /job:localhost/replica:0/task:0/device:CPU:0\n",
      "Executing op TensorDataset in device /job:localhost/replica:0/task:0/device:CPU:0\n",
      "Executing op RepeatDataset in device /job:localhost/replica:0/task:0/device:CPU:0\n",
      "Executing op ZipDataset in device /job:localhost/replica:0/task:0/device:CPU:0\n",
      "Executing op ParallelMapDataset in device /job:localhost/replica:0/task:0/device:CPU:0\n",
      "Executing op ModelDataset in device /job:localhost/replica:0/task:0/device:CPU:0\n",
      "33481/33481 [==============================] - 500s 15ms/step - loss: 0.0181 - accuracy: 0.9997 - val_loss: 0.0190 - val_accuracy: 0.9992\n",
      "Epoch 12/60\n",
      "33480/33481 [============================>.] - ETA: 0s - loss: 0.0177 - accuracy: 0.9997Executing op RangeDataset in device /job:localhost/replica:0/task:0/device:CPU:0\n",
      "Executing op RepeatDataset in device /job:localhost/replica:0/task:0/device:CPU:0\n",
      "Executing op MapDataset in device /job:localhost/replica:0/task:0/device:CPU:0\n",
      "Executing op PrefetchDataset in device /job:localhost/replica:0/task:0/device:CPU:0\n",
      "Executing op FlatMapDataset in device /job:localhost/replica:0/task:0/device:CPU:0\n",
      "Executing op TensorDataset in device /job:localhost/replica:0/task:0/device:CPU:0\n",
      "Executing op RepeatDataset in device /job:localhost/replica:0/task:0/device:CPU:0\n",
      "Executing op ZipDataset in device /job:localhost/replica:0/task:0/device:CPU:0\n",
      "Executing op ParallelMapDataset in device /job:localhost/replica:0/task:0/device:CPU:0\n",
      "Executing op ModelDataset in device /job:localhost/replica:0/task:0/device:CPU:0\n",
      "33481/33481 [==============================] - 500s 15ms/step - loss: 0.0177 - accuracy: 0.9997 - val_loss: 0.0185 - val_accuracy: 0.9993\n",
      "Epoch 13/60\n",
      "33481/33481 [==============================] - ETA: 0s - loss: 0.0175 - accuracy: 0.9997Executing op RangeDataset in device /job:localhost/replica:0/task:0/device:CPU:0\n",
      "Executing op RepeatDataset in device /job:localhost/replica:0/task:0/device:CPU:0\n",
      "Executing op MapDataset in device /job:localhost/replica:0/task:0/device:CPU:0\n",
      "Executing op PrefetchDataset in device /job:localhost/replica:0/task:0/device:CPU:0\n",
      "Executing op FlatMapDataset in device /job:localhost/replica:0/task:0/device:CPU:0\n",
      "Executing op TensorDataset in device /job:localhost/replica:0/task:0/device:CPU:0\n",
      "Executing op RepeatDataset in device /job:localhost/replica:0/task:0/device:CPU:0\n"
     ]
    },
    {
     "name": "stdout",
     "output_type": "stream",
     "text": [
      "Executing op ZipDataset in device /job:localhost/replica:0/task:0/device:CPU:0\n",
      "Executing op ParallelMapDataset in device /job:localhost/replica:0/task:0/device:CPU:0\n",
      "Executing op ModelDataset in device /job:localhost/replica:0/task:0/device:CPU:0\n",
      "33481/33481 [==============================] - 500s 15ms/step - loss: 0.0175 - accuracy: 0.9997 - val_loss: 0.0180 - val_accuracy: 0.9993\n",
      "Epoch 14/60\n",
      "33481/33481 [==============================] - ETA: 0s - loss: 0.0172 - accuracy: 0.9997Executing op RangeDataset in device /job:localhost/replica:0/task:0/device:CPU:0\n",
      "Executing op RepeatDataset in device /job:localhost/replica:0/task:0/device:CPU:0\n",
      "Executing op MapDataset in device /job:localhost/replica:0/task:0/device:CPU:0\n",
      "Executing op PrefetchDataset in device /job:localhost/replica:0/task:0/device:CPU:0\n",
      "Executing op FlatMapDataset in device /job:localhost/replica:0/task:0/device:CPU:0\n",
      "Executing op TensorDataset in device /job:localhost/replica:0/task:0/device:CPU:0\n",
      "Executing op RepeatDataset in device /job:localhost/replica:0/task:0/device:CPU:0\n",
      "Executing op ZipDataset in device /job:localhost/replica:0/task:0/device:CPU:0\n",
      "Executing op ParallelMapDataset in device /job:localhost/replica:0/task:0/device:CPU:0\n",
      "Executing op ModelDataset in device /job:localhost/replica:0/task:0/device:CPU:0\n",
      "33481/33481 [==============================] - 500s 15ms/step - loss: 0.0172 - accuracy: 0.9997 - val_loss: 0.0177 - val_accuracy: 0.9993\n",
      "Epoch 15/60\n",
      "33481/33481 [==============================] - ETA: 0s - loss: 0.0170 - accuracy: 0.9997Executing op RangeDataset in device /job:localhost/replica:0/task:0/device:CPU:0\n",
      "Executing op RepeatDataset in device /job:localhost/replica:0/task:0/device:CPU:0\n",
      "Executing op MapDataset in device /job:localhost/replica:0/task:0/device:CPU:0\n",
      "Executing op PrefetchDataset in device /job:localhost/replica:0/task:0/device:CPU:0\n",
      "Executing op FlatMapDataset in device /job:localhost/replica:0/task:0/device:CPU:0\n",
      "Executing op TensorDataset in device /job:localhost/replica:0/task:0/device:CPU:0\n",
      "Executing op RepeatDataset in device /job:localhost/replica:0/task:0/device:CPU:0\n",
      "Executing op ZipDataset in device /job:localhost/replica:0/task:0/device:CPU:0\n",
      "Executing op ParallelMapDataset in device /job:localhost/replica:0/task:0/device:CPU:0\n",
      "Executing op ModelDataset in device /job:localhost/replica:0/task:0/device:CPU:0\n",
      "33481/33481 [==============================] - 500s 15ms/step - loss: 0.0170 - accuracy: 0.9997 - val_loss: 0.0175 - val_accuracy: 0.9993\n",
      "Epoch 16/60\n",
      "33481/33481 [==============================] - ETA: 0s - loss: 0.0168 - accuracy: 0.9997Executing op RangeDataset in device /job:localhost/replica:0/task:0/device:CPU:0\n",
      "Executing op RepeatDataset in device /job:localhost/replica:0/task:0/device:CPU:0\n",
      "Executing op MapDataset in device /job:localhost/replica:0/task:0/device:CPU:0\n",
      "Executing op PrefetchDataset in device /job:localhost/replica:0/task:0/device:CPU:0\n",
      "Executing op FlatMapDataset in device /job:localhost/replica:0/task:0/device:CPU:0\n",
      "Executing op TensorDataset in device /job:localhost/replica:0/task:0/device:CPU:0\n",
      "Executing op RepeatDataset in device /job:localhost/replica:0/task:0/device:CPU:0\n",
      "Executing op ZipDataset in device /job:localhost/replica:0/task:0/device:CPU:0\n",
      "Executing op ParallelMapDataset in device /job:localhost/replica:0/task:0/device:CPU:0\n",
      "Executing op ModelDataset in device /job:localhost/replica:0/task:0/device:CPU:0\n",
      "33481/33481 [==============================] - 500s 15ms/step - loss: 0.0168 - accuracy: 0.9997 - val_loss: 0.0176 - val_accuracy: 0.9993\n",
      "Epoch 17/60\n",
      "33481/33481 [==============================] - ETA: 0s - loss: 0.0167 - accuracy: 0.9997Executing op RangeDataset in device /job:localhost/replica:0/task:0/device:CPU:0\n",
      "Executing op RepeatDataset in device /job:localhost/replica:0/task:0/device:CPU:0\n",
      "Executing op MapDataset in device /job:localhost/replica:0/task:0/device:CPU:0\n",
      "Executing op PrefetchDataset in device /job:localhost/replica:0/task:0/device:CPU:0\n",
      "Executing op FlatMapDataset in device /job:localhost/replica:0/task:0/device:CPU:0\n",
      "Executing op TensorDataset in device /job:localhost/replica:0/task:0/device:CPU:0\n",
      "Executing op RepeatDataset in device /job:localhost/replica:0/task:0/device:CPU:0\n",
      "Executing op ZipDataset in device /job:localhost/replica:0/task:0/device:CPU:0\n",
      "Executing op ParallelMapDataset in device /job:localhost/replica:0/task:0/device:CPU:0\n",
      "Executing op ModelDataset in device /job:localhost/replica:0/task:0/device:CPU:0\n",
      "33481/33481 [==============================] - 500s 15ms/step - loss: 0.0167 - accuracy: 0.9997 - val_loss: 0.0176 - val_accuracy: 0.9992\n",
      "Epoch 18/60\n",
      "33481/33481 [==============================] - ETA: 0s - loss: 0.0169 - accuracy: 0.9997Executing op RangeDataset in device /job:localhost/replica:0/task:0/device:CPU:0\n",
      "Executing op RepeatDataset in device /job:localhost/replica:0/task:0/device:CPU:0\n",
      "Executing op MapDataset in device /job:localhost/replica:0/task:0/device:CPU:0\n",
      "Executing op PrefetchDataset in device /job:localhost/replica:0/task:0/device:CPU:0\n",
      "Executing op FlatMapDataset in device /job:localhost/replica:0/task:0/device:CPU:0\n",
      "Executing op TensorDataset in device /job:localhost/replica:0/task:0/device:CPU:0\n",
      "Executing op RepeatDataset in device /job:localhost/replica:0/task:0/device:CPU:0\n",
      "Executing op ZipDataset in device /job:localhost/replica:0/task:0/device:CPU:0\n",
      "Executing op ParallelMapDataset in device /job:localhost/replica:0/task:0/device:CPU:0\n",
      "Executing op ModelDataset in device /job:localhost/replica:0/task:0/device:CPU:0\n",
      "33481/33481 [==============================] - 500s 15ms/step - loss: 0.0169 - accuracy: 0.9997 - val_loss: 0.0181 - val_accuracy: 0.9991\n",
      "Epoch 19/60\n",
      "33481/33481 [==============================] - ETA: 0s - loss: 0.0167 - accuracy: 0.9997Executing op RangeDataset in device /job:localhost/replica:0/task:0/device:CPU:0\n",
      "Executing op RepeatDataset in device /job:localhost/replica:0/task:0/device:CPU:0\n",
      "Executing op MapDataset in device /job:localhost/replica:0/task:0/device:CPU:0\n",
      "Executing op PrefetchDataset in device /job:localhost/replica:0/task:0/device:CPU:0\n",
      "Executing op FlatMapDataset in device /job:localhost/replica:0/task:0/device:CPU:0\n",
      "Executing op TensorDataset in device /job:localhost/replica:0/task:0/device:CPU:0\n",
      "Executing op RepeatDataset in device /job:localhost/replica:0/task:0/device:CPU:0\n",
      "Executing op ZipDataset in device /job:localhost/replica:0/task:0/device:CPU:0\n",
      "Executing op ParallelMapDataset in device /job:localhost/replica:0/task:0/device:CPU:0\n",
      "Executing op ModelDataset in device /job:localhost/replica:0/task:0/device:CPU:0\n",
      "33481/33481 [==============================] - 500s 15ms/step - loss: 0.0167 - accuracy: 0.9997 - val_loss: 0.0179 - val_accuracy: 0.9992\n",
      "Epoch 20/60\n",
      "33481/33481 [==============================] - ETA: 0s - loss: 0.0166 - accuracy: 0.9997Executing op RangeDataset in device /job:localhost/replica:0/task:0/device:CPU:0\n",
      "Executing op RepeatDataset in device /job:localhost/replica:0/task:0/device:CPU:0\n",
      "Executing op MapDataset in device /job:localhost/replica:0/task:0/device:CPU:0\n",
      "Executing op PrefetchDataset in device /job:localhost/replica:0/task:0/device:CPU:0\n",
      "Executing op FlatMapDataset in device /job:localhost/replica:0/task:0/device:CPU:0\n",
      "Executing op TensorDataset in device /job:localhost/replica:0/task:0/device:CPU:0\n",
      "Executing op RepeatDataset in device /job:localhost/replica:0/task:0/device:CPU:0\n",
      "Executing op ZipDataset in device /job:localhost/replica:0/task:0/device:CPU:0\n",
      "Executing op ParallelMapDataset in device /job:localhost/replica:0/task:0/device:CPU:0\n",
      "Executing op ModelDataset in device /job:localhost/replica:0/task:0/device:CPU:0\n",
      "33481/33481 [==============================] - 500s 15ms/step - loss: 0.0166 - accuracy: 0.9997 - val_loss: 0.0176 - val_accuracy: 0.9992\n",
      "Epoch 21/60\n",
      "33481/33481 [==============================] - ETA: 0s - loss: 0.0163 - accuracy: 0.9997Executing op RangeDataset in device /job:localhost/replica:0/task:0/device:CPU:0\n",
      "Executing op RepeatDataset in device /job:localhost/replica:0/task:0/device:CPU:0\n",
      "Executing op MapDataset in device /job:localhost/replica:0/task:0/device:CPU:0\n",
      "Executing op PrefetchDataset in device /job:localhost/replica:0/task:0/device:CPU:0\n"
     ]
    },
    {
     "name": "stdout",
     "output_type": "stream",
     "text": [
      "Executing op FlatMapDataset in device /job:localhost/replica:0/task:0/device:CPU:0\n",
      "Executing op TensorDataset in device /job:localhost/replica:0/task:0/device:CPU:0\n",
      "Executing op RepeatDataset in device /job:localhost/replica:0/task:0/device:CPU:0\n",
      "Executing op ZipDataset in device /job:localhost/replica:0/task:0/device:CPU:0\n",
      "Executing op ParallelMapDataset in device /job:localhost/replica:0/task:0/device:CPU:0\n",
      "Executing op ModelDataset in device /job:localhost/replica:0/task:0/device:CPU:0\n",
      "33481/33481 [==============================] - 501s 15ms/step - loss: 0.0163 - accuracy: 0.9997 - val_loss: 0.0176 - val_accuracy: 0.9991\n",
      "Epoch 22/60\n",
      "33481/33481 [==============================] - ETA: 0s - loss: 0.0162 - accuracy: 0.9998Executing op RangeDataset in device /job:localhost/replica:0/task:0/device:CPU:0\n",
      "Executing op RepeatDataset in device /job:localhost/replica:0/task:0/device:CPU:0\n",
      "Executing op MapDataset in device /job:localhost/replica:0/task:0/device:CPU:0\n",
      "Executing op PrefetchDataset in device /job:localhost/replica:0/task:0/device:CPU:0\n",
      "Executing op FlatMapDataset in device /job:localhost/replica:0/task:0/device:CPU:0\n",
      "Executing op TensorDataset in device /job:localhost/replica:0/task:0/device:CPU:0\n",
      "Executing op RepeatDataset in device /job:localhost/replica:0/task:0/device:CPU:0\n",
      "Executing op ZipDataset in device /job:localhost/replica:0/task:0/device:CPU:0\n",
      "Executing op ParallelMapDataset in device /job:localhost/replica:0/task:0/device:CPU:0\n",
      "Executing op ModelDataset in device /job:localhost/replica:0/task:0/device:CPU:0\n",
      "33481/33481 [==============================] - 500s 15ms/step - loss: 0.0162 - accuracy: 0.9998 - val_loss: 0.0169 - val_accuracy: 0.9995\n",
      "Epoch 23/60\n",
      "33480/33481 [============================>.] - ETA: 0s - loss: 0.0163 - accuracy: 0.9997Executing op RangeDataset in device /job:localhost/replica:0/task:0/device:CPU:0\n",
      "Executing op RepeatDataset in device /job:localhost/replica:0/task:0/device:CPU:0\n",
      "Executing op MapDataset in device /job:localhost/replica:0/task:0/device:CPU:0\n",
      "Executing op PrefetchDataset in device /job:localhost/replica:0/task:0/device:CPU:0\n",
      "Executing op FlatMapDataset in device /job:localhost/replica:0/task:0/device:CPU:0\n",
      "Executing op TensorDataset in device /job:localhost/replica:0/task:0/device:CPU:0\n",
      "Executing op RepeatDataset in device /job:localhost/replica:0/task:0/device:CPU:0\n",
      "Executing op ZipDataset in device /job:localhost/replica:0/task:0/device:CPU:0\n",
      "Executing op ParallelMapDataset in device /job:localhost/replica:0/task:0/device:CPU:0\n",
      "Executing op ModelDataset in device /job:localhost/replica:0/task:0/device:CPU:0\n",
      "33481/33481 [==============================] - 500s 15ms/step - loss: 0.0163 - accuracy: 0.9997 - val_loss: 0.0169 - val_accuracy: 0.9994\n",
      "Epoch 24/60\n",
      "33481/33481 [==============================] - ETA: 0s - loss: 0.0161 - accuracy: 0.9997Executing op RangeDataset in device /job:localhost/replica:0/task:0/device:CPU:0\n",
      "Executing op RepeatDataset in device /job:localhost/replica:0/task:0/device:CPU:0\n",
      "Executing op MapDataset in device /job:localhost/replica:0/task:0/device:CPU:0\n",
      "Executing op PrefetchDataset in device /job:localhost/replica:0/task:0/device:CPU:0\n",
      "Executing op FlatMapDataset in device /job:localhost/replica:0/task:0/device:CPU:0\n",
      "Executing op TensorDataset in device /job:localhost/replica:0/task:0/device:CPU:0\n",
      "Executing op RepeatDataset in device /job:localhost/replica:0/task:0/device:CPU:0\n",
      "Executing op ZipDataset in device /job:localhost/replica:0/task:0/device:CPU:0\n",
      "Executing op ParallelMapDataset in device /job:localhost/replica:0/task:0/device:CPU:0\n",
      "Executing op ModelDataset in device /job:localhost/replica:0/task:0/device:CPU:0\n",
      "33481/33481 [==============================] - 500s 15ms/step - loss: 0.0161 - accuracy: 0.9997 - val_loss: 0.0168 - val_accuracy: 0.9995\n",
      "Epoch 25/60\n",
      "33481/33481 [==============================] - ETA: 0s - loss: 0.0164 - accuracy: 0.9996Executing op RangeDataset in device /job:localhost/replica:0/task:0/device:CPU:0\n",
      "Executing op RepeatDataset in device /job:localhost/replica:0/task:0/device:CPU:0\n",
      "Executing op MapDataset in device /job:localhost/replica:0/task:0/device:CPU:0\n",
      "Executing op PrefetchDataset in device /job:localhost/replica:0/task:0/device:CPU:0\n",
      "Executing op FlatMapDataset in device /job:localhost/replica:0/task:0/device:CPU:0\n",
      "Executing op TensorDataset in device /job:localhost/replica:0/task:0/device:CPU:0\n",
      "Executing op RepeatDataset in device /job:localhost/replica:0/task:0/device:CPU:0\n",
      "Executing op ZipDataset in device /job:localhost/replica:0/task:0/device:CPU:0\n",
      "Executing op ParallelMapDataset in device /job:localhost/replica:0/task:0/device:CPU:0\n",
      "Executing op ModelDataset in device /job:localhost/replica:0/task:0/device:CPU:0\n",
      "33481/33481 [==============================] - 500s 15ms/step - loss: 0.0164 - accuracy: 0.9996 - val_loss: 0.0195 - val_accuracy: 0.9988\n",
      "Epoch 26/60\n",
      "33481/33481 [==============================] - ETA: 0s - loss: 0.0168 - accuracy: 0.9996Executing op RangeDataset in device /job:localhost/replica:0/task:0/device:CPU:0\n",
      "Executing op RepeatDataset in device /job:localhost/replica:0/task:0/device:CPU:0\n",
      "Executing op MapDataset in device /job:localhost/replica:0/task:0/device:CPU:0\n",
      "Executing op PrefetchDataset in device /job:localhost/replica:0/task:0/device:CPU:0\n",
      "Executing op FlatMapDataset in device /job:localhost/replica:0/task:0/device:CPU:0\n",
      "Executing op TensorDataset in device /job:localhost/replica:0/task:0/device:CPU:0\n",
      "Executing op RepeatDataset in device /job:localhost/replica:0/task:0/device:CPU:0\n",
      "Executing op ZipDataset in device /job:localhost/replica:0/task:0/device:CPU:0\n",
      "Executing op ParallelMapDataset in device /job:localhost/replica:0/task:0/device:CPU:0\n",
      "Executing op ModelDataset in device /job:localhost/replica:0/task:0/device:CPU:0\n",
      "33481/33481 [==============================] - 500s 15ms/step - loss: 0.0168 - accuracy: 0.9996 - val_loss: 0.0170 - val_accuracy: 0.9993\n",
      "Epoch 27/60\n",
      "33481/33481 [==============================] - ETA: 0s - loss: 0.0159 - accuracy: 0.9997Executing op RangeDataset in device /job:localhost/replica:0/task:0/device:CPU:0\n",
      "Executing op RepeatDataset in device /job:localhost/replica:0/task:0/device:CPU:0\n",
      "Executing op MapDataset in device /job:localhost/replica:0/task:0/device:CPU:0\n",
      "Executing op PrefetchDataset in device /job:localhost/replica:0/task:0/device:CPU:0\n",
      "Executing op FlatMapDataset in device /job:localhost/replica:0/task:0/device:CPU:0\n",
      "Executing op TensorDataset in device /job:localhost/replica:0/task:0/device:CPU:0\n",
      "Executing op RepeatDataset in device /job:localhost/replica:0/task:0/device:CPU:0\n",
      "Executing op ZipDataset in device /job:localhost/replica:0/task:0/device:CPU:0\n",
      "Executing op ParallelMapDataset in device /job:localhost/replica:0/task:0/device:CPU:0\n",
      "Executing op ModelDataset in device /job:localhost/replica:0/task:0/device:CPU:0\n",
      "33481/33481 [==============================] - 500s 15ms/step - loss: 0.0159 - accuracy: 0.9997 - val_loss: 0.0167 - val_accuracy: 0.9995\n",
      "Epoch 28/60\n",
      "33481/33481 [==============================] - ETA: 0s - loss: 0.0159 - accuracy: 0.9997Executing op RangeDataset in device /job:localhost/replica:0/task:0/device:CPU:0\n",
      "Executing op RepeatDataset in device /job:localhost/replica:0/task:0/device:CPU:0\n",
      "Executing op MapDataset in device /job:localhost/replica:0/task:0/device:CPU:0\n",
      "Executing op PrefetchDataset in device /job:localhost/replica:0/task:0/device:CPU:0\n",
      "Executing op FlatMapDataset in device /job:localhost/replica:0/task:0/device:CPU:0\n",
      "Executing op TensorDataset in device /job:localhost/replica:0/task:0/device:CPU:0\n",
      "Executing op RepeatDataset in device /job:localhost/replica:0/task:0/device:CPU:0\n",
      "Executing op ZipDataset in device /job:localhost/replica:0/task:0/device:CPU:0\n",
      "Executing op ParallelMapDataset in device /job:localhost/replica:0/task:0/device:CPU:0\n",
      "Executing op ModelDataset in device /job:localhost/replica:0/task:0/device:CPU:0\n",
      "33481/33481 [==============================] - 500s 15ms/step - loss: 0.0159 - accuracy: 0.9997 - val_loss: 0.0168 - val_accuracy: 0.9993\n",
      "Epoch 29/60\n",
      "33481/33481 [==============================] - ETA: 0s - loss: 0.0159 - accuracy: 0.9997Executing op RangeDataset in device /job:localhost/replica:0/task:0/device:CPU:0\n"
     ]
    },
    {
     "name": "stdout",
     "output_type": "stream",
     "text": [
      "Executing op RepeatDataset in device /job:localhost/replica:0/task:0/device:CPU:0\n",
      "Executing op MapDataset in device /job:localhost/replica:0/task:0/device:CPU:0\n",
      "Executing op PrefetchDataset in device /job:localhost/replica:0/task:0/device:CPU:0\n",
      "Executing op FlatMapDataset in device /job:localhost/replica:0/task:0/device:CPU:0\n",
      "Executing op TensorDataset in device /job:localhost/replica:0/task:0/device:CPU:0\n",
      "Executing op RepeatDataset in device /job:localhost/replica:0/task:0/device:CPU:0\n",
      "Executing op ZipDataset in device /job:localhost/replica:0/task:0/device:CPU:0\n",
      "Executing op ParallelMapDataset in device /job:localhost/replica:0/task:0/device:CPU:0\n",
      "Executing op ModelDataset in device /job:localhost/replica:0/task:0/device:CPU:0\n",
      "33481/33481 [==============================] - 500s 15ms/step - loss: 0.0159 - accuracy: 0.9997 - val_loss: 0.0165 - val_accuracy: 0.9995\n",
      "Epoch 30/60\n",
      "33481/33481 [==============================] - ETA: 0s - loss: 0.0157 - accuracy: 0.9997Executing op RangeDataset in device /job:localhost/replica:0/task:0/device:CPU:0\n",
      "Executing op RepeatDataset in device /job:localhost/replica:0/task:0/device:CPU:0\n",
      "Executing op MapDataset in device /job:localhost/replica:0/task:0/device:CPU:0\n",
      "Executing op PrefetchDataset in device /job:localhost/replica:0/task:0/device:CPU:0\n",
      "Executing op FlatMapDataset in device /job:localhost/replica:0/task:0/device:CPU:0\n",
      "Executing op TensorDataset in device /job:localhost/replica:0/task:0/device:CPU:0\n",
      "Executing op RepeatDataset in device /job:localhost/replica:0/task:0/device:CPU:0\n",
      "Executing op ZipDataset in device /job:localhost/replica:0/task:0/device:CPU:0\n",
      "Executing op ParallelMapDataset in device /job:localhost/replica:0/task:0/device:CPU:0\n",
      "Executing op ModelDataset in device /job:localhost/replica:0/task:0/device:CPU:0\n",
      "33481/33481 [==============================] - 500s 15ms/step - loss: 0.0157 - accuracy: 0.9997 - val_loss: 0.0160 - val_accuracy: 0.9995\n",
      "Epoch 31/60\n",
      "33481/33481 [==============================] - ETA: 0s - loss: 0.0157 - accuracy: 0.9997Executing op RangeDataset in device /job:localhost/replica:0/task:0/device:CPU:0\n",
      "Executing op RepeatDataset in device /job:localhost/replica:0/task:0/device:CPU:0\n",
      "Executing op MapDataset in device /job:localhost/replica:0/task:0/device:CPU:0\n",
      "Executing op PrefetchDataset in device /job:localhost/replica:0/task:0/device:CPU:0\n",
      "Executing op FlatMapDataset in device /job:localhost/replica:0/task:0/device:CPU:0\n",
      "Executing op TensorDataset in device /job:localhost/replica:0/task:0/device:CPU:0\n",
      "Executing op RepeatDataset in device /job:localhost/replica:0/task:0/device:CPU:0\n",
      "Executing op ZipDataset in device /job:localhost/replica:0/task:0/device:CPU:0\n",
      "Executing op ParallelMapDataset in device /job:localhost/replica:0/task:0/device:CPU:0\n",
      "Executing op ModelDataset in device /job:localhost/replica:0/task:0/device:CPU:0\n",
      "33481/33481 [==============================] - 500s 15ms/step - loss: 0.0157 - accuracy: 0.9997 - val_loss: 0.0164 - val_accuracy: 0.9994\n",
      "Epoch 32/60\n",
      "33481/33481 [==============================] - ETA: 0s - loss: 0.0156 - accuracy: 0.9997Executing op RangeDataset in device /job:localhost/replica:0/task:0/device:CPU:0\n",
      "Executing op RepeatDataset in device /job:localhost/replica:0/task:0/device:CPU:0\n",
      "Executing op MapDataset in device /job:localhost/replica:0/task:0/device:CPU:0\n",
      "Executing op PrefetchDataset in device /job:localhost/replica:0/task:0/device:CPU:0\n",
      "Executing op FlatMapDataset in device /job:localhost/replica:0/task:0/device:CPU:0\n",
      "Executing op TensorDataset in device /job:localhost/replica:0/task:0/device:CPU:0\n",
      "Executing op RepeatDataset in device /job:localhost/replica:0/task:0/device:CPU:0\n",
      "Executing op ZipDataset in device /job:localhost/replica:0/task:0/device:CPU:0\n",
      "Executing op ParallelMapDataset in device /job:localhost/replica:0/task:0/device:CPU:0\n",
      "Executing op ModelDataset in device /job:localhost/replica:0/task:0/device:CPU:0\n",
      "33481/33481 [==============================] - 500s 15ms/step - loss: 0.0156 - accuracy: 0.9997 - val_loss: 0.0165 - val_accuracy: 0.9994\n",
      "Epoch 33/60\n",
      "33480/33481 [============================>.] - ETA: 0s - loss: 0.0156 - accuracy: 0.9997Executing op RangeDataset in device /job:localhost/replica:0/task:0/device:CPU:0\n",
      "Executing op RepeatDataset in device /job:localhost/replica:0/task:0/device:CPU:0\n",
      "Executing op MapDataset in device /job:localhost/replica:0/task:0/device:CPU:0\n",
      "Executing op PrefetchDataset in device /job:localhost/replica:0/task:0/device:CPU:0\n",
      "Executing op FlatMapDataset in device /job:localhost/replica:0/task:0/device:CPU:0\n",
      "Executing op TensorDataset in device /job:localhost/replica:0/task:0/device:CPU:0\n",
      "Executing op RepeatDataset in device /job:localhost/replica:0/task:0/device:CPU:0\n",
      "Executing op ZipDataset in device /job:localhost/replica:0/task:0/device:CPU:0\n",
      "Executing op ParallelMapDataset in device /job:localhost/replica:0/task:0/device:CPU:0\n",
      "Executing op ModelDataset in device /job:localhost/replica:0/task:0/device:CPU:0\n",
      "33481/33481 [==============================] - 501s 15ms/step - loss: 0.0156 - accuracy: 0.9997 - val_loss: 0.0163 - val_accuracy: 0.9996\n",
      "Epoch 34/60\n",
      "33481/33481 [==============================] - ETA: 0s - loss: 0.0155 - accuracy: 0.9998Executing op RangeDataset in device /job:localhost/replica:0/task:0/device:CPU:0\n",
      "Executing op RepeatDataset in device /job:localhost/replica:0/task:0/device:CPU:0\n",
      "Executing op MapDataset in device /job:localhost/replica:0/task:0/device:CPU:0\n",
      "Executing op PrefetchDataset in device /job:localhost/replica:0/task:0/device:CPU:0\n",
      "Executing op FlatMapDataset in device /job:localhost/replica:0/task:0/device:CPU:0\n",
      "Executing op TensorDataset in device /job:localhost/replica:0/task:0/device:CPU:0\n",
      "Executing op RepeatDataset in device /job:localhost/replica:0/task:0/device:CPU:0\n",
      "Executing op ZipDataset in device /job:localhost/replica:0/task:0/device:CPU:0\n",
      "Executing op ParallelMapDataset in device /job:localhost/replica:0/task:0/device:CPU:0\n",
      "Executing op ModelDataset in device /job:localhost/replica:0/task:0/device:CPU:0\n",
      "33481/33481 [==============================] - 501s 15ms/step - loss: 0.0155 - accuracy: 0.9998 - val_loss: 0.0162 - val_accuracy: 0.9994\n",
      "Epoch 35/60\n",
      "33481/33481 [==============================] - ETA: 0s - loss: 0.0155 - accuracy: 0.9997Executing op RangeDataset in device /job:localhost/replica:0/task:0/device:CPU:0\n",
      "Executing op RepeatDataset in device /job:localhost/replica:0/task:0/device:CPU:0\n",
      "Executing op MapDataset in device /job:localhost/replica:0/task:0/device:CPU:0\n",
      "Executing op PrefetchDataset in device /job:localhost/replica:0/task:0/device:CPU:0\n",
      "Executing op FlatMapDataset in device /job:localhost/replica:0/task:0/device:CPU:0\n",
      "Executing op TensorDataset in device /job:localhost/replica:0/task:0/device:CPU:0\n",
      "Executing op RepeatDataset in device /job:localhost/replica:0/task:0/device:CPU:0\n",
      "Executing op ZipDataset in device /job:localhost/replica:0/task:0/device:CPU:0\n",
      "Executing op ParallelMapDataset in device /job:localhost/replica:0/task:0/device:CPU:0\n",
      "Executing op ModelDataset in device /job:localhost/replica:0/task:0/device:CPU:0\n",
      "33481/33481 [==============================] - 500s 15ms/step - loss: 0.0155 - accuracy: 0.9997 - val_loss: 0.0173 - val_accuracy: 0.9990\n",
      "Epoch 36/60\n",
      "33481/33481 [==============================] - ETA: 0s - loss: 0.0154 - accuracy: 0.9997Executing op RangeDataset in device /job:localhost/replica:0/task:0/device:CPU:0\n",
      "Executing op RepeatDataset in device /job:localhost/replica:0/task:0/device:CPU:0\n",
      "Executing op MapDataset in device /job:localhost/replica:0/task:0/device:CPU:0\n",
      "Executing op PrefetchDataset in device /job:localhost/replica:0/task:0/device:CPU:0\n",
      "Executing op FlatMapDataset in device /job:localhost/replica:0/task:0/device:CPU:0\n",
      "Executing op TensorDataset in device /job:localhost/replica:0/task:0/device:CPU:0\n",
      "Executing op RepeatDataset in device /job:localhost/replica:0/task:0/device:CPU:0\n",
      "Executing op ZipDataset in device /job:localhost/replica:0/task:0/device:CPU:0\n",
      "Executing op ParallelMapDataset in device /job:localhost/replica:0/task:0/device:CPU:0\n",
      "Executing op ModelDataset in device /job:localhost/replica:0/task:0/device:CPU:0\n",
      "33481/33481 [==============================] - 501s 15ms/step - loss: 0.0154 - accuracy: 0.9997 - val_loss: 0.0158 - val_accuracy: 0.9995\n"
     ]
    },
    {
     "name": "stdout",
     "output_type": "stream",
     "text": [
      "Epoch 37/60\n",
      "33481/33481 [==============================] - ETA: 0s - loss: 0.0154 - accuracy: 0.9997Executing op RangeDataset in device /job:localhost/replica:0/task:0/device:CPU:0\n",
      "Executing op RepeatDataset in device /job:localhost/replica:0/task:0/device:CPU:0\n",
      "Executing op MapDataset in device /job:localhost/replica:0/task:0/device:CPU:0\n",
      "Executing op PrefetchDataset in device /job:localhost/replica:0/task:0/device:CPU:0\n",
      "Executing op FlatMapDataset in device /job:localhost/replica:0/task:0/device:CPU:0\n",
      "Executing op TensorDataset in device /job:localhost/replica:0/task:0/device:CPU:0\n",
      "Executing op RepeatDataset in device /job:localhost/replica:0/task:0/device:CPU:0\n",
      "Executing op ZipDataset in device /job:localhost/replica:0/task:0/device:CPU:0\n",
      "Executing op ParallelMapDataset in device /job:localhost/replica:0/task:0/device:CPU:0\n",
      "Executing op ModelDataset in device /job:localhost/replica:0/task:0/device:CPU:0\n",
      "33481/33481 [==============================] - 501s 15ms/step - loss: 0.0154 - accuracy: 0.9997 - val_loss: 0.0158 - val_accuracy: 0.9996\n",
      "Epoch 38/60\n",
      "33481/33481 [==============================] - ETA: 0s - loss: 0.0154 - accuracy: 0.9997Executing op RangeDataset in device /job:localhost/replica:0/task:0/device:CPU:0\n",
      "Executing op RepeatDataset in device /job:localhost/replica:0/task:0/device:CPU:0\n",
      "Executing op MapDataset in device /job:localhost/replica:0/task:0/device:CPU:0\n",
      "Executing op PrefetchDataset in device /job:localhost/replica:0/task:0/device:CPU:0\n",
      "Executing op FlatMapDataset in device /job:localhost/replica:0/task:0/device:CPU:0\n",
      "Executing op TensorDataset in device /job:localhost/replica:0/task:0/device:CPU:0\n",
      "Executing op RepeatDataset in device /job:localhost/replica:0/task:0/device:CPU:0\n",
      "Executing op ZipDataset in device /job:localhost/replica:0/task:0/device:CPU:0\n",
      "Executing op ParallelMapDataset in device /job:localhost/replica:0/task:0/device:CPU:0\n",
      "Executing op ModelDataset in device /job:localhost/replica:0/task:0/device:CPU:0\n",
      "33481/33481 [==============================] - 501s 15ms/step - loss: 0.0154 - accuracy: 0.9997 - val_loss: 0.0160 - val_accuracy: 0.9995\n",
      "Epoch 39/60\n",
      "33481/33481 [==============================] - ETA: 0s - loss: 0.0154 - accuracy: 0.9998Executing op RangeDataset in device /job:localhost/replica:0/task:0/device:CPU:0\n",
      "Executing op RepeatDataset in device /job:localhost/replica:0/task:0/device:CPU:0\n",
      "Executing op MapDataset in device /job:localhost/replica:0/task:0/device:CPU:0\n",
      "Executing op PrefetchDataset in device /job:localhost/replica:0/task:0/device:CPU:0\n",
      "Executing op FlatMapDataset in device /job:localhost/replica:0/task:0/device:CPU:0\n",
      "Executing op TensorDataset in device /job:localhost/replica:0/task:0/device:CPU:0\n",
      "Executing op RepeatDataset in device /job:localhost/replica:0/task:0/device:CPU:0\n",
      "Executing op ZipDataset in device /job:localhost/replica:0/task:0/device:CPU:0\n",
      "Executing op ParallelMapDataset in device /job:localhost/replica:0/task:0/device:CPU:0\n",
      "Executing op ModelDataset in device /job:localhost/replica:0/task:0/device:CPU:0\n",
      "33481/33481 [==============================] - 501s 15ms/step - loss: 0.0154 - accuracy: 0.9998 - val_loss: 0.0156 - val_accuracy: 0.9994\n",
      "Epoch 40/60\n",
      "33481/33481 [==============================] - ETA: 0s - loss: 0.0153 - accuracy: 0.9998Executing op RangeDataset in device /job:localhost/replica:0/task:0/device:CPU:0\n",
      "Executing op RepeatDataset in device /job:localhost/replica:0/task:0/device:CPU:0\n",
      "Executing op MapDataset in device /job:localhost/replica:0/task:0/device:CPU:0\n",
      "Executing op PrefetchDataset in device /job:localhost/replica:0/task:0/device:CPU:0\n",
      "Executing op FlatMapDataset in device /job:localhost/replica:0/task:0/device:CPU:0\n",
      "Executing op TensorDataset in device /job:localhost/replica:0/task:0/device:CPU:0\n",
      "Executing op RepeatDataset in device /job:localhost/replica:0/task:0/device:CPU:0\n",
      "Executing op ZipDataset in device /job:localhost/replica:0/task:0/device:CPU:0\n",
      "Executing op ParallelMapDataset in device /job:localhost/replica:0/task:0/device:CPU:0\n",
      "Executing op ModelDataset in device /job:localhost/replica:0/task:0/device:CPU:0\n",
      "33481/33481 [==============================] - 500s 15ms/step - loss: 0.0153 - accuracy: 0.9998 - val_loss: 0.0159 - val_accuracy: 0.9995\n",
      "Epoch 41/60\n",
      "33481/33481 [==============================] - ETA: 0s - loss: 0.0154 - accuracy: 0.9998Executing op RangeDataset in device /job:localhost/replica:0/task:0/device:CPU:0\n",
      "Executing op RepeatDataset in device /job:localhost/replica:0/task:0/device:CPU:0\n",
      "Executing op MapDataset in device /job:localhost/replica:0/task:0/device:CPU:0\n",
      "Executing op PrefetchDataset in device /job:localhost/replica:0/task:0/device:CPU:0\n",
      "Executing op FlatMapDataset in device /job:localhost/replica:0/task:0/device:CPU:0\n",
      "Executing op TensorDataset in device /job:localhost/replica:0/task:0/device:CPU:0\n",
      "Executing op RepeatDataset in device /job:localhost/replica:0/task:0/device:CPU:0\n",
      "Executing op ZipDataset in device /job:localhost/replica:0/task:0/device:CPU:0\n",
      "Executing op ParallelMapDataset in device /job:localhost/replica:0/task:0/device:CPU:0\n",
      "Executing op ModelDataset in device /job:localhost/replica:0/task:0/device:CPU:0\n",
      "33481/33481 [==============================] - 501s 15ms/step - loss: 0.0154 - accuracy: 0.9998 - val_loss: 0.0176 - val_accuracy: 0.9990\n",
      "Epoch 42/60\n",
      "33481/33481 [==============================] - ETA: 0s - loss: 0.0154 - accuracy: 0.9998Executing op RangeDataset in device /job:localhost/replica:0/task:0/device:CPU:0\n",
      "Executing op RepeatDataset in device /job:localhost/replica:0/task:0/device:CPU:0\n",
      "Executing op MapDataset in device /job:localhost/replica:0/task:0/device:CPU:0\n",
      "Executing op PrefetchDataset in device /job:localhost/replica:0/task:0/device:CPU:0\n",
      "Executing op FlatMapDataset in device /job:localhost/replica:0/task:0/device:CPU:0\n",
      "Executing op TensorDataset in device /job:localhost/replica:0/task:0/device:CPU:0\n",
      "Executing op RepeatDataset in device /job:localhost/replica:0/task:0/device:CPU:0\n",
      "Executing op ZipDataset in device /job:localhost/replica:0/task:0/device:CPU:0\n",
      "Executing op ParallelMapDataset in device /job:localhost/replica:0/task:0/device:CPU:0\n",
      "Executing op ModelDataset in device /job:localhost/replica:0/task:0/device:CPU:0\n",
      "33481/33481 [==============================] - 500s 15ms/step - loss: 0.0154 - accuracy: 0.9998 - val_loss: 0.0157 - val_accuracy: 0.9995\n",
      "Epoch 43/60\n",
      "33481/33481 [==============================] - ETA: 0s - loss: 0.0154 - accuracy: 0.9997Executing op RangeDataset in device /job:localhost/replica:0/task:0/device:CPU:0\n",
      "Executing op RepeatDataset in device /job:localhost/replica:0/task:0/device:CPU:0\n",
      "Executing op MapDataset in device /job:localhost/replica:0/task:0/device:CPU:0\n",
      "Executing op PrefetchDataset in device /job:localhost/replica:0/task:0/device:CPU:0\n",
      "Executing op FlatMapDataset in device /job:localhost/replica:0/task:0/device:CPU:0\n",
      "Executing op TensorDataset in device /job:localhost/replica:0/task:0/device:CPU:0\n",
      "Executing op RepeatDataset in device /job:localhost/replica:0/task:0/device:CPU:0\n",
      "Executing op ZipDataset in device /job:localhost/replica:0/task:0/device:CPU:0\n",
      "Executing op ParallelMapDataset in device /job:localhost/replica:0/task:0/device:CPU:0\n",
      "Executing op ModelDataset in device /job:localhost/replica:0/task:0/device:CPU:0\n",
      "33481/33481 [==============================] - 501s 15ms/step - loss: 0.0154 - accuracy: 0.9997 - val_loss: 0.0161 - val_accuracy: 0.9995\n",
      "Epoch 44/60\n",
      "33480/33481 [============================>.] - ETA: 0s - loss: 0.0153 - accuracy: 0.9998Executing op RangeDataset in device /job:localhost/replica:0/task:0/device:CPU:0\n",
      "Executing op RepeatDataset in device /job:localhost/replica:0/task:0/device:CPU:0\n",
      "Executing op MapDataset in device /job:localhost/replica:0/task:0/device:CPU:0\n",
      "Executing op PrefetchDataset in device /job:localhost/replica:0/task:0/device:CPU:0\n",
      "Executing op FlatMapDataset in device /job:localhost/replica:0/task:0/device:CPU:0\n",
      "Executing op TensorDataset in device /job:localhost/replica:0/task:0/device:CPU:0\n",
      "Executing op RepeatDataset in device /job:localhost/replica:0/task:0/device:CPU:0\n",
      "Executing op ZipDataset in device /job:localhost/replica:0/task:0/device:CPU:0\n",
      "Executing op ParallelMapDataset in device /job:localhost/replica:0/task:0/device:CPU:0\n"
     ]
    },
    {
     "name": "stdout",
     "output_type": "stream",
     "text": [
      "Executing op ModelDataset in device /job:localhost/replica:0/task:0/device:CPU:0\n",
      "33481/33481 [==============================] - 500s 15ms/step - loss: 0.0153 - accuracy: 0.9998 - val_loss: 0.0159 - val_accuracy: 0.9994\n",
      "Epoch 45/60\n",
      "33481/33481 [==============================] - ETA: 0s - loss: 0.0152 - accuracy: 0.9998Executing op RangeDataset in device /job:localhost/replica:0/task:0/device:CPU:0\n",
      "Executing op RepeatDataset in device /job:localhost/replica:0/task:0/device:CPU:0\n",
      "Executing op MapDataset in device /job:localhost/replica:0/task:0/device:CPU:0\n",
      "Executing op PrefetchDataset in device /job:localhost/replica:0/task:0/device:CPU:0\n",
      "Executing op FlatMapDataset in device /job:localhost/replica:0/task:0/device:CPU:0\n",
      "Executing op TensorDataset in device /job:localhost/replica:0/task:0/device:CPU:0\n",
      "Executing op RepeatDataset in device /job:localhost/replica:0/task:0/device:CPU:0\n",
      "Executing op ZipDataset in device /job:localhost/replica:0/task:0/device:CPU:0\n",
      "Executing op ParallelMapDataset in device /job:localhost/replica:0/task:0/device:CPU:0\n",
      "Executing op ModelDataset in device /job:localhost/replica:0/task:0/device:CPU:0\n",
      "33481/33481 [==============================] - 501s 15ms/step - loss: 0.0152 - accuracy: 0.9998 - val_loss: 0.0158 - val_accuracy: 0.9995\n",
      "Epoch 46/60\n",
      "33481/33481 [==============================] - ETA: 0s - loss: 0.0152 - accuracy: 0.9998Executing op RangeDataset in device /job:localhost/replica:0/task:0/device:CPU:0\n",
      "Executing op RepeatDataset in device /job:localhost/replica:0/task:0/device:CPU:0\n",
      "Executing op MapDataset in device /job:localhost/replica:0/task:0/device:CPU:0\n",
      "Executing op PrefetchDataset in device /job:localhost/replica:0/task:0/device:CPU:0\n",
      "Executing op FlatMapDataset in device /job:localhost/replica:0/task:0/device:CPU:0\n",
      "Executing op TensorDataset in device /job:localhost/replica:0/task:0/device:CPU:0\n",
      "Executing op RepeatDataset in device /job:localhost/replica:0/task:0/device:CPU:0\n",
      "Executing op ZipDataset in device /job:localhost/replica:0/task:0/device:CPU:0\n",
      "Executing op ParallelMapDataset in device /job:localhost/replica:0/task:0/device:CPU:0\n",
      "Executing op ModelDataset in device /job:localhost/replica:0/task:0/device:CPU:0\n",
      "33481/33481 [==============================] - 501s 15ms/step - loss: 0.0152 - accuracy: 0.9998 - val_loss: 0.0154 - val_accuracy: 0.9995\n",
      "Epoch 47/60\n",
      "33481/33481 [==============================] - ETA: 0s - loss: 0.0151 - accuracy: 0.9998Executing op RangeDataset in device /job:localhost/replica:0/task:0/device:CPU:0\n",
      "Executing op RepeatDataset in device /job:localhost/replica:0/task:0/device:CPU:0\n",
      "Executing op MapDataset in device /job:localhost/replica:0/task:0/device:CPU:0\n",
      "Executing op PrefetchDataset in device /job:localhost/replica:0/task:0/device:CPU:0\n",
      "Executing op FlatMapDataset in device /job:localhost/replica:0/task:0/device:CPU:0\n",
      "Executing op TensorDataset in device /job:localhost/replica:0/task:0/device:CPU:0\n",
      "Executing op RepeatDataset in device /job:localhost/replica:0/task:0/device:CPU:0\n",
      "Executing op ZipDataset in device /job:localhost/replica:0/task:0/device:CPU:0\n",
      "Executing op ParallelMapDataset in device /job:localhost/replica:0/task:0/device:CPU:0\n",
      "Executing op ModelDataset in device /job:localhost/replica:0/task:0/device:CPU:0\n",
      "33481/33481 [==============================] - 501s 15ms/step - loss: 0.0151 - accuracy: 0.9998 - val_loss: 0.0157 - val_accuracy: 0.9996\n",
      "Epoch 48/60\n",
      "33481/33481 [==============================] - ETA: 0s - loss: 0.0151 - accuracy: 0.9998Executing op RangeDataset in device /job:localhost/replica:0/task:0/device:CPU:0\n",
      "Executing op RepeatDataset in device /job:localhost/replica:0/task:0/device:CPU:0\n",
      "Executing op MapDataset in device /job:localhost/replica:0/task:0/device:CPU:0\n",
      "Executing op PrefetchDataset in device /job:localhost/replica:0/task:0/device:CPU:0\n",
      "Executing op FlatMapDataset in device /job:localhost/replica:0/task:0/device:CPU:0\n",
      "Executing op TensorDataset in device /job:localhost/replica:0/task:0/device:CPU:0\n",
      "Executing op RepeatDataset in device /job:localhost/replica:0/task:0/device:CPU:0\n",
      "Executing op ZipDataset in device /job:localhost/replica:0/task:0/device:CPU:0\n",
      "Executing op ParallelMapDataset in device /job:localhost/replica:0/task:0/device:CPU:0\n",
      "Executing op ModelDataset in device /job:localhost/replica:0/task:0/device:CPU:0\n",
      "33481/33481 [==============================] - 501s 15ms/step - loss: 0.0151 - accuracy: 0.9998 - val_loss: 0.0159 - val_accuracy: 0.9995\n",
      "Epoch 49/60\n",
      "33481/33481 [==============================] - ETA: 0s - loss: 0.0152 - accuracy: 0.9997Executing op RangeDataset in device /job:localhost/replica:0/task:0/device:CPU:0\n",
      "Executing op RepeatDataset in device /job:localhost/replica:0/task:0/device:CPU:0\n",
      "Executing op MapDataset in device /job:localhost/replica:0/task:0/device:CPU:0\n",
      "Executing op PrefetchDataset in device /job:localhost/replica:0/task:0/device:CPU:0\n",
      "Executing op FlatMapDataset in device /job:localhost/replica:0/task:0/device:CPU:0\n",
      "Executing op TensorDataset in device /job:localhost/replica:0/task:0/device:CPU:0\n",
      "Executing op RepeatDataset in device /job:localhost/replica:0/task:0/device:CPU:0\n",
      "Executing op ZipDataset in device /job:localhost/replica:0/task:0/device:CPU:0\n",
      "Executing op ParallelMapDataset in device /job:localhost/replica:0/task:0/device:CPU:0\n",
      "Executing op ModelDataset in device /job:localhost/replica:0/task:0/device:CPU:0\n",
      "33481/33481 [==============================] - 501s 15ms/step - loss: 0.0152 - accuracy: 0.9997 - val_loss: 0.0160 - val_accuracy: 0.9994\n",
      "Epoch 50/60\n",
      "33481/33481 [==============================] - ETA: 0s - loss: 0.0152 - accuracy: 0.9998Executing op RangeDataset in device /job:localhost/replica:0/task:0/device:CPU:0\n",
      "Executing op RepeatDataset in device /job:localhost/replica:0/task:0/device:CPU:0\n",
      "Executing op MapDataset in device /job:localhost/replica:0/task:0/device:CPU:0\n",
      "Executing op PrefetchDataset in device /job:localhost/replica:0/task:0/device:CPU:0\n",
      "Executing op FlatMapDataset in device /job:localhost/replica:0/task:0/device:CPU:0\n",
      "Executing op TensorDataset in device /job:localhost/replica:0/task:0/device:CPU:0\n",
      "Executing op RepeatDataset in device /job:localhost/replica:0/task:0/device:CPU:0\n",
      "Executing op ZipDataset in device /job:localhost/replica:0/task:0/device:CPU:0\n",
      "Executing op ParallelMapDataset in device /job:localhost/replica:0/task:0/device:CPU:0\n",
      "Executing op ModelDataset in device /job:localhost/replica:0/task:0/device:CPU:0\n",
      "33481/33481 [==============================] - 501s 15ms/step - loss: 0.0152 - accuracy: 0.9998 - val_loss: 0.0157 - val_accuracy: 0.9995\n",
      "Epoch 51/60\n",
      "33481/33481 [==============================] - ETA: 0s - loss: 0.0151 - accuracy: 0.9998Executing op RangeDataset in device /job:localhost/replica:0/task:0/device:CPU:0\n",
      "Executing op RepeatDataset in device /job:localhost/replica:0/task:0/device:CPU:0\n",
      "Executing op MapDataset in device /job:localhost/replica:0/task:0/device:CPU:0\n",
      "Executing op PrefetchDataset in device /job:localhost/replica:0/task:0/device:CPU:0\n",
      "Executing op FlatMapDataset in device /job:localhost/replica:0/task:0/device:CPU:0\n",
      "Executing op TensorDataset in device /job:localhost/replica:0/task:0/device:CPU:0\n",
      "Executing op RepeatDataset in device /job:localhost/replica:0/task:0/device:CPU:0\n",
      "Executing op ZipDataset in device /job:localhost/replica:0/task:0/device:CPU:0\n",
      "Executing op ParallelMapDataset in device /job:localhost/replica:0/task:0/device:CPU:0\n",
      "Executing op ModelDataset in device /job:localhost/replica:0/task:0/device:CPU:0\n",
      "33481/33481 [==============================] - 501s 15ms/step - loss: 0.0151 - accuracy: 0.9998 - val_loss: 0.0155 - val_accuracy: 0.9996\n",
      "Epoch 52/60\n",
      "33481/33481 [==============================] - ETA: 0s - loss: 0.0150 - accuracy: 0.9998Executing op RangeDataset in device /job:localhost/replica:0/task:0/device:CPU:0\n",
      "Executing op RepeatDataset in device /job:localhost/replica:0/task:0/device:CPU:0\n",
      "Executing op MapDataset in device /job:localhost/replica:0/task:0/device:CPU:0\n",
      "Executing op PrefetchDataset in device /job:localhost/replica:0/task:0/device:CPU:0\n",
      "Executing op FlatMapDataset in device /job:localhost/replica:0/task:0/device:CPU:0\n",
      "Executing op TensorDataset in device /job:localhost/replica:0/task:0/device:CPU:0\n"
     ]
    },
    {
     "name": "stdout",
     "output_type": "stream",
     "text": [
      "Executing op RepeatDataset in device /job:localhost/replica:0/task:0/device:CPU:0\n",
      "Executing op ZipDataset in device /job:localhost/replica:0/task:0/device:CPU:0\n",
      "Executing op ParallelMapDataset in device /job:localhost/replica:0/task:0/device:CPU:0\n",
      "Executing op ModelDataset in device /job:localhost/replica:0/task:0/device:CPU:0\n",
      "33481/33481 [==============================] - 501s 15ms/step - loss: 0.0150 - accuracy: 0.9998 - val_loss: 0.0155 - val_accuracy: 0.9996\n",
      "Epoch 53/60\n",
      "33481/33481 [==============================] - ETA: 0s - loss: 0.0150 - accuracy: 0.9998Executing op RangeDataset in device /job:localhost/replica:0/task:0/device:CPU:0\n",
      "Executing op RepeatDataset in device /job:localhost/replica:0/task:0/device:CPU:0\n",
      "Executing op MapDataset in device /job:localhost/replica:0/task:0/device:CPU:0\n",
      "Executing op PrefetchDataset in device /job:localhost/replica:0/task:0/device:CPU:0\n",
      "Executing op FlatMapDataset in device /job:localhost/replica:0/task:0/device:CPU:0\n",
      "Executing op TensorDataset in device /job:localhost/replica:0/task:0/device:CPU:0\n",
      "Executing op RepeatDataset in device /job:localhost/replica:0/task:0/device:CPU:0\n",
      "Executing op ZipDataset in device /job:localhost/replica:0/task:0/device:CPU:0\n",
      "Executing op ParallelMapDataset in device /job:localhost/replica:0/task:0/device:CPU:0\n",
      "Executing op ModelDataset in device /job:localhost/replica:0/task:0/device:CPU:0\n",
      "33481/33481 [==============================] - 501s 15ms/step - loss: 0.0150 - accuracy: 0.9998 - val_loss: 0.0158 - val_accuracy: 0.9995\n",
      "Epoch 54/60\n",
      "33481/33481 [==============================] - ETA: 0s - loss: 0.0153 - accuracy: 0.9997Executing op RangeDataset in device /job:localhost/replica:0/task:0/device:CPU:0\n",
      "Executing op RepeatDataset in device /job:localhost/replica:0/task:0/device:CPU:0\n",
      "Executing op MapDataset in device /job:localhost/replica:0/task:0/device:CPU:0\n",
      "Executing op PrefetchDataset in device /job:localhost/replica:0/task:0/device:CPU:0\n",
      "Executing op FlatMapDataset in device /job:localhost/replica:0/task:0/device:CPU:0\n",
      "Executing op TensorDataset in device /job:localhost/replica:0/task:0/device:CPU:0\n",
      "Executing op RepeatDataset in device /job:localhost/replica:0/task:0/device:CPU:0\n",
      "Executing op ZipDataset in device /job:localhost/replica:0/task:0/device:CPU:0\n",
      "Executing op ParallelMapDataset in device /job:localhost/replica:0/task:0/device:CPU:0\n",
      "Executing op ModelDataset in device /job:localhost/replica:0/task:0/device:CPU:0\n",
      "33481/33481 [==============================] - 500s 15ms/step - loss: 0.0153 - accuracy: 0.9997 - val_loss: 0.0163 - val_accuracy: 0.9993\n",
      "Epoch 55/60\n",
      "33480/33481 [============================>.] - ETA: 0s - loss: 0.0151 - accuracy: 0.9997Executing op RangeDataset in device /job:localhost/replica:0/task:0/device:CPU:0\n",
      "Executing op RepeatDataset in device /job:localhost/replica:0/task:0/device:CPU:0\n",
      "Executing op MapDataset in device /job:localhost/replica:0/task:0/device:CPU:0\n",
      "Executing op PrefetchDataset in device /job:localhost/replica:0/task:0/device:CPU:0\n",
      "Executing op FlatMapDataset in device /job:localhost/replica:0/task:0/device:CPU:0\n",
      "Executing op TensorDataset in device /job:localhost/replica:0/task:0/device:CPU:0\n",
      "Executing op RepeatDataset in device /job:localhost/replica:0/task:0/device:CPU:0\n",
      "Executing op ZipDataset in device /job:localhost/replica:0/task:0/device:CPU:0\n",
      "Executing op ParallelMapDataset in device /job:localhost/replica:0/task:0/device:CPU:0\n",
      "Executing op ModelDataset in device /job:localhost/replica:0/task:0/device:CPU:0\n",
      "33481/33481 [==============================] - 501s 15ms/step - loss: 0.0151 - accuracy: 0.9997 - val_loss: 0.0163 - val_accuracy: 0.9993\n",
      "Epoch 56/60\n",
      "33481/33481 [==============================] - ETA: 0s - loss: 0.0152 - accuracy: 0.9997Executing op RangeDataset in device /job:localhost/replica:0/task:0/device:CPU:0\n",
      "Executing op RepeatDataset in device /job:localhost/replica:0/task:0/device:CPU:0\n",
      "Executing op MapDataset in device /job:localhost/replica:0/task:0/device:CPU:0\n",
      "Executing op PrefetchDataset in device /job:localhost/replica:0/task:0/device:CPU:0\n",
      "Executing op FlatMapDataset in device /job:localhost/replica:0/task:0/device:CPU:0\n",
      "Executing op TensorDataset in device /job:localhost/replica:0/task:0/device:CPU:0\n",
      "Executing op RepeatDataset in device /job:localhost/replica:0/task:0/device:CPU:0\n",
      "Executing op ZipDataset in device /job:localhost/replica:0/task:0/device:CPU:0\n",
      "Executing op ParallelMapDataset in device /job:localhost/replica:0/task:0/device:CPU:0\n",
      "Executing op ModelDataset in device /job:localhost/replica:0/task:0/device:CPU:0\n",
      "33481/33481 [==============================] - 501s 15ms/step - loss: 0.0152 - accuracy: 0.9997 - val_loss: 0.0161 - val_accuracy: 0.9996\n",
      "Epoch 57/60\n",
      "33481/33481 [==============================] - ETA: 0s - loss: 0.0152 - accuracy: 0.9997Executing op RangeDataset in device /job:localhost/replica:0/task:0/device:CPU:0\n",
      "Executing op RepeatDataset in device /job:localhost/replica:0/task:0/device:CPU:0\n",
      "Executing op MapDataset in device /job:localhost/replica:0/task:0/device:CPU:0\n",
      "Executing op PrefetchDataset in device /job:localhost/replica:0/task:0/device:CPU:0\n",
      "Executing op FlatMapDataset in device /job:localhost/replica:0/task:0/device:CPU:0\n",
      "Executing op TensorDataset in device /job:localhost/replica:0/task:0/device:CPU:0\n",
      "Executing op RepeatDataset in device /job:localhost/replica:0/task:0/device:CPU:0\n",
      "Executing op ZipDataset in device /job:localhost/replica:0/task:0/device:CPU:0\n",
      "Executing op ParallelMapDataset in device /job:localhost/replica:0/task:0/device:CPU:0\n",
      "Executing op ModelDataset in device /job:localhost/replica:0/task:0/device:CPU:0\n",
      "33481/33481 [==============================] - 500s 15ms/step - loss: 0.0152 - accuracy: 0.9997 - val_loss: 0.0155 - val_accuracy: 0.9996\n",
      "Epoch 58/60\n",
      "33481/33481 [==============================] - ETA: 0s - loss: 0.0150 - accuracy: 0.9998Executing op RangeDataset in device /job:localhost/replica:0/task:0/device:CPU:0\n",
      "Executing op RepeatDataset in device /job:localhost/replica:0/task:0/device:CPU:0\n",
      "Executing op MapDataset in device /job:localhost/replica:0/task:0/device:CPU:0\n",
      "Executing op PrefetchDataset in device /job:localhost/replica:0/task:0/device:CPU:0\n",
      "Executing op FlatMapDataset in device /job:localhost/replica:0/task:0/device:CPU:0\n",
      "Executing op TensorDataset in device /job:localhost/replica:0/task:0/device:CPU:0\n",
      "Executing op RepeatDataset in device /job:localhost/replica:0/task:0/device:CPU:0\n",
      "Executing op ZipDataset in device /job:localhost/replica:0/task:0/device:CPU:0\n",
      "Executing op ParallelMapDataset in device /job:localhost/replica:0/task:0/device:CPU:0\n",
      "Executing op ModelDataset in device /job:localhost/replica:0/task:0/device:CPU:0\n",
      "33481/33481 [==============================] - 500s 15ms/step - loss: 0.0150 - accuracy: 0.9998 - val_loss: 0.0155 - val_accuracy: 0.9995\n",
      "Epoch 59/60\n",
      "33481/33481 [==============================] - ETA: 0s - loss: 0.0159 - accuracy: 0.9996Executing op RangeDataset in device /job:localhost/replica:0/task:0/device:CPU:0\n",
      "Executing op RepeatDataset in device /job:localhost/replica:0/task:0/device:CPU:0\n",
      "Executing op MapDataset in device /job:localhost/replica:0/task:0/device:CPU:0\n",
      "Executing op PrefetchDataset in device /job:localhost/replica:0/task:0/device:CPU:0\n",
      "Executing op FlatMapDataset in device /job:localhost/replica:0/task:0/device:CPU:0\n",
      "Executing op TensorDataset in device /job:localhost/replica:0/task:0/device:CPU:0\n",
      "Executing op RepeatDataset in device /job:localhost/replica:0/task:0/device:CPU:0\n",
      "Executing op ZipDataset in device /job:localhost/replica:0/task:0/device:CPU:0\n",
      "Executing op ParallelMapDataset in device /job:localhost/replica:0/task:0/device:CPU:0\n",
      "Executing op ModelDataset in device /job:localhost/replica:0/task:0/device:CPU:0\n",
      "33481/33481 [==============================] - 501s 15ms/step - loss: 0.0159 - accuracy: 0.9996 - val_loss: 0.0179 - val_accuracy: 0.9989\n",
      "Epoch 60/60\n",
      "33481/33481 [==============================] - ETA: 0s - loss: 0.0157 - accuracy: 0.9996Executing op RangeDataset in device /job:localhost/replica:0/task:0/device:CPU:0\n",
      "Executing op RepeatDataset in device /job:localhost/replica:0/task:0/device:CPU:0\n",
      "Executing op MapDataset in device /job:localhost/replica:0/task:0/device:CPU:0\n"
     ]
    },
    {
     "name": "stdout",
     "output_type": "stream",
     "text": [
      "Executing op PrefetchDataset in device /job:localhost/replica:0/task:0/device:CPU:0\n",
      "Executing op FlatMapDataset in device /job:localhost/replica:0/task:0/device:CPU:0\n",
      "Executing op TensorDataset in device /job:localhost/replica:0/task:0/device:CPU:0\n",
      "Executing op RepeatDataset in device /job:localhost/replica:0/task:0/device:CPU:0\n",
      "Executing op ZipDataset in device /job:localhost/replica:0/task:0/device:CPU:0\n",
      "Executing op ParallelMapDataset in device /job:localhost/replica:0/task:0/device:CPU:0\n",
      "Executing op ModelDataset in device /job:localhost/replica:0/task:0/device:CPU:0\n",
      "33481/33481 [==============================] - 501s 15ms/step - loss: 0.0157 - accuracy: 0.9996 - val_loss: 0.0158 - val_accuracy: 0.9994\n",
      "Executing op ReadVariableOp in device /job:localhost/replica:0/task:0/device:GPU:0\n",
      "Executing op Identity in device /job:localhost/replica:0/task:0/device:GPU:0\n",
      "Executing op ReadVariableOp in device /job:localhost/replica:0/task:0/device:GPU:0\n",
      "Executing op Identity in device /job:localhost/replica:0/task:0/device:GPU:0\n"
     ]
    }
   ],
   "source": [
    "learning_rate = 0.00001\n",
    "seq_length = 100\n",
    "data_dim = 4\n",
    "METRICS = [\n",
    "    tf.keras.metrics.BinaryAccuracy(name='accuracy')\n",
    "]\n",
    "model = Sequential()\n",
    "model.add(Masking(mask_value=-1.,input_shape=(100, 4)))\n",
    "model.add(Bidirectional(LSTM(128, kernel_regularizer='l2', input_shape=(100,4))))\n",
    "\n",
    "model.add(Dense(128, activation='relu', kernel_regularizer='l2'))\n",
    "model.add(Dense(1, activation='sigmoid', kernel_regularizer='l2'))\n",
    "\n",
    "model.compile(loss='binary_crossentropy', optimizer=tf.keras.optimizers.Adam(lr=learning_rate), metrics=METRICS)\n",
    "          \n",
    "history = model.fit(X_train_over, Y_train_over,validation_data=(X_val,Y_val), epochs=60, batch_size=64)\n",
    "\n",
    "model.save('test_00001_60.h5')"
   ]
  },
  {
   "cell_type": "code",
   "execution_count": 51,
   "id": "functioning-network",
   "metadata": {},
   "outputs": [
    {
     "data": {
      "image/png": "[encoded data removed]",
      "text/plain": [
       "<Figure size 432x288 with 1 Axes>"
      ]
     },
     "metadata": {
      "needs_background": "light"
     },
     "output_type": "display_data"
    }
   ],
   "source": [
    "history_dict = history.history\n",
    "loss = history_dict['loss']\n",
    "val_loss = history_dict['val_loss']\n",
    "\n",
    "epochs = range(1, len(loss) + 1)\n",
    "\n",
    "plt.plot(epochs, loss, 'bo', label='Training loss')  # ‘bo’는 파란색 점을 의미합니다.\n",
    "plt.plot(epochs, val_loss, 'b', label='Validation loss') # ‘b’는 파란색 실선을 의미합니다.\n",
    "plt.title('Training and validation loss')\n",
    "plt.xlabel('Epochs')\n",
    "plt.ylabel('Loss')\n",
    "plt.legend()\n",
    "\n",
    "plt.show()\n"
   ]
  },
  {
   "cell_type": "code",
   "execution_count": 52,
   "id": "changing-signal",
   "metadata": {},
   "outputs": [
    {
     "name": "stdout",
     "output_type": "stream",
     "text": [
      "Executing op RangeDataset in device /job:localhost/replica:0/task:0/device:CPU:0\n",
      "Executing op RepeatDataset in device /job:localhost/replica:0/task:0/device:CPU:0\n",
      "Executing op MapDataset in device /job:localhost/replica:0/task:0/device:CPU:0\n",
      "Executing op PrefetchDataset in device /job:localhost/replica:0/task:0/device:CPU:0\n",
      "Executing op FlatMapDataset in device /job:localhost/replica:0/task:0/device:CPU:0\n",
      "Executing op TensorDataset in device /job:localhost/replica:0/task:0/device:CPU:0\n",
      "Executing op RepeatDataset in device /job:localhost/replica:0/task:0/device:CPU:0\n",
      "Executing op ZipDataset in device /job:localhost/replica:0/task:0/device:CPU:0\n",
      "Executing op ParallelMapDataset in device /job:localhost/replica:0/task:0/device:CPU:0\n",
      "Executing op ModelDataset in device /job:localhost/replica:0/task:0/device:CPU:0\n",
      "Executing op AnonymousIteratorV2 in device /job:localhost/replica:0/task:0/device:CPU:0\n",
      "Executing op __inference_predict_function_4309110 in device /job:localhost/replica:0/task:0/device:GPU:0\n",
      "4187/4187 [==============================] - 24s 6ms/step\n",
      "Executing op ConcatV2 in device /job:localhost/replica:0/task:0/device:GPU:0\n"
     ]
    }
   ],
   "source": [
    "X_val_predict = model.predict(X_val,verbose=1)"
   ]
  },
  {
   "cell_type": "code",
   "execution_count": 53,
   "id": "sought-courage",
   "metadata": {},
   "outputs": [
    {
     "name": "stdout",
     "output_type": "stream",
     "text": [
      "Executing op RangeDataset in device /job:localhost/replica:0/task:0/device:CPU:0\n",
      "Executing op RepeatDataset in device /job:localhost/replica:0/task:0/device:CPU:0\n",
      "Executing op MapDataset in device /job:localhost/replica:0/task:0/device:CPU:0\n",
      "Executing op PrefetchDataset in device /job:localhost/replica:0/task:0/device:CPU:0\n",
      "Executing op FlatMapDataset in device /job:localhost/replica:0/task:0/device:CPU:0\n",
      "Executing op TensorDataset in device /job:localhost/replica:0/task:0/device:CPU:0\n",
      "Executing op RepeatDataset in device /job:localhost/replica:0/task:0/device:CPU:0\n",
      "Executing op ZipDataset in device /job:localhost/replica:0/task:0/device:CPU:0\n",
      "Executing op ParallelMapDataset in device /job:localhost/replica:0/task:0/device:CPU:0\n",
      "Executing op ModelDataset in device /job:localhost/replica:0/task:0/device:CPU:0\n",
      "4187/4187 [==============================] - 24s 6ms/step\n"
     ]
    }
   ],
   "source": [
    "predict = model.predict(X_test,verbose=1)"
   ]
  },
  {
   "cell_type": "code",
   "execution_count": 54,
   "id": "universal-antarctica",
   "metadata": {},
   "outputs": [
    {
     "data": {
      "text/plain": [
       "array([[0.00020917],\n",
       "       [0.00033905],\n",
       "       [0.00201952],\n",
       "       ...,\n",
       "       [0.00021443],\n",
       "       [0.00047348],\n",
       "       [0.00036892]], dtype=float32)"
      ]
     },
     "execution_count": 54,
     "metadata": {},
     "output_type": "execute_result"
    }
   ],
   "source": [
    "predict"
   ]
  },
  {
   "cell_type": "markdown",
   "id": "sophisticated-wichita",
   "metadata": {},
   "source": [
    "<br>\n",
    "<h2>X_val_predict로 임계값 구하기</h2>\n"
   ]
  },
  {
   "cell_type": "markdown",
   "id": "decreased-hebrew",
   "metadata": {},
   "source": [
    "<h3>roc곡선</h3>"
   ]
  },
  {
   "cell_type": "code",
   "execution_count": 55,
   "id": "reverse-hammer",
   "metadata": {},
   "outputs": [
    {
     "name": "stdout",
     "output_type": "stream",
     "text": [
      "thresholds :  [1. 1. 1. ... 0. 0. 0.]\n",
      "precisions :  [0.    0.    0.    ... 0.998 0.999 1.   ]\n",
      "recalls :  [0.028 0.583 0.833 ... 1.    1.    1.   ]\n"
     ]
    },
    {
     "data": {
      "image/png": "[encoded data removed]",
      "text/plain": [
       "<Figure size 432x288 with 1 Axes>"
      ]
     },
     "metadata": {
      "needs_background": "light"
     },
     "output_type": "display_data"
    }
   ],
   "source": [
    "from sklearn import metrics\n",
    "from sklearn.metrics import precision_recall_curve\n",
    "from sklearn.metrics import roc_curve\n",
    "\n",
    "#roc 곡선\n",
    "fprs, tprs, thresholds = metrics.roc_curve(Y_val,X_val_predict)\n",
    "\n",
    "thr_index = np.arange(1, thresholds.shape[0], 5)\n",
    "\n",
    "# 인덱스에 해당하는 정밀도, 재현율, 임계값 구하기\n",
    "print('thresholds : ', np.round(thresholds[thr_index],2))\n",
    "print('precisions : ', np.round(fprs[thr_index],3))\n",
    "print('recalls : ', np.round(tprs[thr_index],3))\n",
    "\n",
    "\n",
    "\n",
    "# 그래프 그리기\n",
    "def roc_curve_plot(y_real, pred_prob_1):\n",
    "    fprs, tprs, thresholds = roc_curve(y_real, pred_prob_1)\n",
    "    \n",
    "    plt.plot(fprs, tprs, label='ROC')\n",
    "    plt.plot([0,1],[0,1], 'k--',label = 'Random')\n",
    "    \n",
    "    start, end = plt.xlim()\n",
    "    plt.xticks(np.round(np.arange(start, end, 0.1),2)) # scale 0.1 단위\n",
    "    \n",
    "\n",
    "roc_curve_plot(Y_val,X_val_predict)"
   ]
  },
  {
   "cell_type": "code",
   "execution_count": 56,
   "id": "ordinary-print",
   "metadata": {},
   "outputs": [
    {
     "name": "stdout",
     "output_type": "stream",
     "text": [
      "Best Threshold=0.940966, G-Mean=1.000\n",
      "Best tpr=1.000000, fpr=0.000231\n"
     ]
    },
    {
     "data": {
      "text/plain": [
       "0.94096607"
      ]
     },
     "execution_count": 56,
     "metadata": {},
     "output_type": "execute_result"
    }
   ],
   "source": [
    "def optimal_threshold_roc(tpr, fpr, threshs):\n",
    "    g_means = np.sqrt(tpr * (1-fpr))\n",
    "    ix = np.argmax(g_means)\n",
    "    print('Best Threshold=%f, G-Mean=%.3f' % (threshs[ix], g_means[ix]))\n",
    "    print('Best tpr=%f, fpr=%f' % (tpr[ix], fpr[ix]))\n",
    "\n",
    "    return threshs[ix]\n",
    "\n",
    "threshold_roc=optimal_threshold_roc(tprs, fprs, thresholds)\n",
    "threshold_roc"
   ]
  },
  {
   "cell_type": "markdown",
   "id": "agreed-breakfast",
   "metadata": {},
   "source": [
    "<h3>pr 곡선 </h3>"
   ]
  },
  {
   "cell_type": "code",
   "execution_count": 57,
   "id": "suspended-sailing",
   "metadata": {},
   "outputs": [
    {
     "name": "stdout",
     "output_type": "stream",
     "text": [
      "thresholds :  [0.94 0.98 1.   1.  ]\n",
      "precisions :  [0.537 0.7   0.875 0.941]\n",
      "recalls :  [1.    0.972 0.778 0.444]\n"
     ]
    },
    {
     "data": {
      "image/png": "[encoded data removed]",
      "text/plain": [
       "<Figure size 576x432 with 1 Axes>"
      ]
     },
     "metadata": {
      "needs_background": "light"
     },
     "output_type": "display_data"
    }
   ],
   "source": [
    "#Y_val,X_val_predict\n",
    "\n",
    "precisions, recalls, thresholds = precision_recall_curve(Y_val,X_val_predict)\n",
    "\n",
    "# 임계값 인덱스 지정\n",
    "thr_index = np.arange(0, thresholds.shape[0], 15)\n",
    "\n",
    "# 인덱스에 해당하는 정밀도, 재현율, 임계값 구하기\n",
    "print('thresholds : ', np.round(thresholds[thr_index],2))\n",
    "print('precisions : ', np.round(precisions[thr_index],3))\n",
    "print('recalls : ', np.round(recalls[thr_index],3))\n",
    "\n",
    "\n",
    "\n",
    "# 그래프 그리기\n",
    "def precision_recall_curve_plot(y_real, pred_prob_1):\n",
    "    precisions, recalls, thresholds = precision_recall_curve(y_real, pred_prob_1)\n",
    "    \n",
    "    plt.figure(figsize=(8,6))\n",
    "    threshold_boundary = thresholds.shape[0] # 마지막은 포함시키지 않겠다\n",
    "    plt.plot(thresholds, precisions[0:threshold_boundary], '--', label='precision')\n",
    "    plt.plot(thresholds, recalls[0:threshold_boundary], label='recalls')\n",
    "    \n",
    "    start, end = plt.xlim()\n",
    "    plt.xticks(np.round(np.arange(start, end, 0.1),2)) # scale 0.1 단위\n",
    "    \n",
    "precision_recall_curve_plot(Y_val,X_val_predict)"
   ]
  },
  {
   "cell_type": "code",
   "execution_count": 58,
   "id": "acquired-stress",
   "metadata": {},
   "outputs": [
    {
     "name": "stdout",
     "output_type": "stream",
     "text": [
      "Best Threshold=0.998152, F-Score=0.857\n",
      "Best precision=0.882353, recall=0.833333\n"
     ]
    }
   ],
   "source": [
    "def optimal_threshold_pr(precision, recall, threshs):\n",
    "    f_score = (2 * precision * recall) / (precision + recall)\n",
    "    ix = np.argmax(f_score)\n",
    "    print('Best Threshold=%f, F-Score=%.3f' % (threshs[ix], f_score[ix]))\n",
    "    print('Best precision=%f, recall=%f' % (precision[ix], recall[ix]))\n",
    "\n",
    "    return threshs[ix]\n",
    "threshold_pr=optimal_threshold_pr(precisions, recalls, thresholds)"
   ]
  },
  {
   "cell_type": "markdown",
   "id": "union-hawaii",
   "metadata": {},
   "source": [
    "<h2>임계값으로 test data에 적용</h2>"
   ]
  },
  {
   "cell_type": "code",
   "execution_count": 59,
   "id": "fifth-neutral",
   "metadata": {},
   "outputs": [],
   "source": [
    "def result_threshold(predict,Y_test,threshold):\n",
    "    Y=[]\n",
    "    for i in range(len(predict)):\n",
    "        if predict[i]>threshold:\n",
    "            Y.append(1)\n",
    "        else:\n",
    "            Y.append(0)\n",
    "    tp = 0\n",
    "    tn = 0\n",
    "    fp = 0\n",
    "    fn = 0    \n",
    "    for i in range(len(Y_test)):\n",
    "        if Y[i] == 1 and Y_test[i] == 1:\n",
    "            tn += 1\n",
    "        elif Y[i] == 0 and Y_test[i] == 0:\n",
    "            tp += 1\n",
    "        elif Y[i] == 0 and Y_test[i] == 1:\n",
    "            fn += 1\n",
    "        elif Y[i] == 1 and Y_test[i] == 0:\n",
    "            fp += 1\n",
    "    print(tn,tp,fn,fp)\n",
    "    return Y"
   ]
  },
  {
   "cell_type": "markdown",
   "id": "forward-perfume",
   "metadata": {},
   "source": [
    "<p>test</p>"
   ]
  },
  {
   "cell_type": "code",
   "execution_count": 60,
   "id": "warming-thanksgiving",
   "metadata": {},
   "outputs": [
    {
     "name": "stdout",
     "output_type": "stream",
     "text": [
      "36 133896 0 26\n"
     ]
    }
   ],
   "source": [
    "Y_predict_roc=result_threshold(predict,Y_test,threshold_roc)"
   ]
  },
  {
   "cell_type": "code",
   "execution_count": 61,
   "id": "resident-galaxy",
   "metadata": {},
   "outputs": [
    {
     "name": "stdout",
     "output_type": "stream",
     "text": [
      "28 133920 8 2\n"
     ]
    }
   ],
   "source": [
    "Y_predict_pr=result_threshold(predict,Y_test,threshold_pr)"
   ]
  },
  {
   "cell_type": "markdown",
   "id": "charming-blood",
   "metadata": {},
   "source": [
    "<p>valiation</p>"
   ]
  },
  {
   "cell_type": "code",
   "execution_count": 62,
   "id": "hawaiian-thunder",
   "metadata": {},
   "outputs": [
    {
     "name": "stdout",
     "output_type": "stream",
     "text": [
      "35 133891 1 31\n"
     ]
    }
   ],
   "source": [
    "Y_predict_roc=result_threshold(X_val_predict,Y_val,threshold_roc)"
   ]
  },
  {
   "cell_type": "code",
   "execution_count": 63,
   "id": "figured-skating",
   "metadata": {},
   "outputs": [
    {
     "name": "stdout",
     "output_type": "stream",
     "text": [
      "29 133918 7 4\n"
     ]
    }
   ],
   "source": [
    "Y_predict_pr=result_threshold(X_val_predict,Y_val,threshold_pr)"
   ]
  },
  {
   "cell_type": "code",
   "execution_count": 64,
   "id": "bearing-malaysia",
   "metadata": {},
   "outputs": [
    {
     "data": {
      "image/png": "[encoded data removed]",
      "text/plain": [
       "<Figure size 432x288 with 1 Axes>"
      ]
     },
     "metadata": {
      "needs_background": "light"
     },
     "output_type": "display_data"
    }
   ],
   "source": [
    "# Plot predictions\n",
    "plt.plot(Y_predict_roc)\n",
    "plt.plot(Y_test)\n",
    "plt.xlabel(\"Time Period\")\n",
    "plt.ylabel(\"mal\")\n",
    "plt.show()"
   ]
  },
  {
   "cell_type": "code",
   "execution_count": 65,
   "id": "contemporary-turkey",
   "metadata": {},
   "outputs": [
    {
     "name": "stderr",
     "output_type": "stream",
     "text": [
      "b'Skipping line 1000426: expected 22 fields, saw 23\\n'\n",
      "b'Skipping line 1279004: expected 22 fields, saw 23\\n'\n",
      "b'Skipping line 3023273: expected 22 fields, saw 27\\n'\n",
      "b'Skipping line 3074890: expected 22 fields, saw 27\\n'\n",
      "b'Skipping line 3460738: expected 22 fields, saw 23\\n'\n"
     ]
    }
   ],
   "source": [
    "test_data=pd.read_csv('test_dataset_01.csv',error_bad_lines=False)"
   ]
  },
  {
   "cell_type": "code",
   "execution_count": 66,
   "id": "christian-willow",
   "metadata": {},
   "outputs": [],
   "source": [
    "test_data=test_data.iloc[:,0:9]"
   ]
  },
  {
   "cell_type": "code",
   "execution_count": 67,
   "id": "focused-rocket",
   "metadata": {},
   "outputs": [],
   "source": [
    "test_data.columns=['_ws.col.UTCtime',\"_ws.col.Protocol\",\"ip.src\",\"ip.dst\",\"tcp.srcport\",\"tcp.dstport\",\"tcp.len\",\"tcp.seq\",\"tcp.ack\"]"
   ]
  },
  {
   "cell_type": "code",
   "execution_count": 68,
   "id": "metropolitan-unknown",
   "metadata": {},
   "outputs": [],
   "source": [
    "test_data=test_data.sort_values(by='_ws.col.UTCtime')"
   ]
  },
  {
   "cell_type": "code",
   "execution_count": 69,
   "id": "exclusive-catalyst",
   "metadata": {},
   "outputs": [],
   "source": [
    "test_data['_ws.col.UTCtime']=pd.to_datetime(test_data['_ws.col.UTCtime'])\n",
    "test_data['_ws.col.UTCtime']=test_data['_ws.col.UTCtime'].astype(np.int64)// 10**9"
   ]
  },
  {
   "cell_type": "code",
   "execution_count": 70,
   "id": "recognized-communist",
   "metadata": {},
   "outputs": [],
   "source": [
    "test_data['_ws.col.UTCtime']=test_data['_ws.col.UTCtime']-test_data.iloc[0,0]"
   ]
  },
  {
   "cell_type": "code",
   "execution_count": 71,
   "id": "thousand-venue",
   "metadata": {},
   "outputs": [],
   "source": [
    "test_data= test_data.dropna(axis=0) #결측값 삭제\n",
    "test_data=test_data.astype({\"_ws.col.UTCtime\":'int','tcp.srcport': 'int','tcp.dstport': 'int','tcp.len': 'int','tcp.seq':'int','tcp.ack': 'int'})"
   ]
  },
  {
   "cell_type": "code",
   "execution_count": 73,
   "id": "extreme-national",
   "metadata": {},
   "outputs": [],
   "source": [
    "groupset=[]\n",
    "over_100_group=[]\n",
    "gb = test_data.groupby(['_ws.col.Protocol','ip.src','ip.dst','tcp.srcport'])\n",
    "for key, group in gb:\n",
    "    group = np.asarray(group)\n",
    "    if len(group)>100:\n",
    "        over_100_group.append(group)\n",
    "    else :\n",
    "        groupset.append(group)"
   ]
  },
  {
   "cell_type": "code",
   "execution_count": 74,
   "id": "hybrid-ensemble",
   "metadata": {},
   "outputs": [],
   "source": [
    "gb = test_data.groupby(['_ws.col.Protocol','ip.src','ip.dst','tcp.dstport'])\n",
    "for key, group in gb:\n",
    "    group = np.asarray(group)\n",
    "    if len(group)>100:\n",
    "        over_100_group.append(group)\n",
    "    else :\n",
    "        groupset.append(group)"
   ]
  },
  {
   "cell_type": "code",
   "execution_count": 75,
   "id": "growing-roulette",
   "metadata": {},
   "outputs": [],
   "source": [
    "for i in range(len(over_100_group)):\n",
    "    for j in range(0,len(over_100_group[i]),100):\n",
    "        groupset.append(over_100_group[i][j:j+100])"
   ]
  },
  {
   "cell_type": "code",
   "execution_count": 76,
   "id": "partial-design",
   "metadata": {},
   "outputs": [
    {
     "data": {
      "text/plain": [
       "409211"
      ]
     },
     "execution_count": 76,
     "metadata": {},
     "output_type": "execute_result"
    }
   ],
   "source": [
    "len(groupset)"
   ]
  },
  {
   "cell_type": "code",
   "execution_count": 77,
   "id": "public-filing",
   "metadata": {},
   "outputs": [],
   "source": [
    "for i in range(len(groupset)):\n",
    "    groupset[i][:,0]=groupset[i][:,0]-groupset[i][0][0]"
   ]
  },
  {
   "cell_type": "code",
   "execution_count": 79,
   "id": "external-wings",
   "metadata": {},
   "outputs": [],
   "source": [
    "X=[]\n",
    "for i in range(len(groupset)):\n",
    "    temp=np.delete(groupset[i],[1,2,3,4,5],1)\n",
    "    num=100-len(temp)\n",
    "    X.append(np.pad(temp,((0,num),(0,0)),'constant', constant_values=-1))"
   ]
  },
  {
   "cell_type": "code",
   "execution_count": 80,
   "id": "southeast-formula",
   "metadata": {},
   "outputs": [],
   "source": [
    "X_data=np.asarray(X)"
   ]
  },
  {
   "cell_type": "code",
   "execution_count": 82,
   "id": "cross-gross",
   "metadata": {},
   "outputs": [
    {
     "name": "stdout",
     "output_type": "stream",
     "text": [
      "Executing op RangeDataset in device /job:localhost/replica:0/task:0/device:CPU:0\n",
      "Executing op RepeatDataset in device /job:localhost/replica:0/task:0/device:CPU:0\n",
      "Executing op MapDataset in device /job:localhost/replica:0/task:0/device:CPU:0\n",
      "Executing op PrefetchDataset in device /job:localhost/replica:0/task:0/device:CPU:0\n",
      "Executing op FlatMapDataset in device /job:localhost/replica:0/task:0/device:CPU:0\n",
      "Executing op TensorDataset in device /job:localhost/replica:0/task:0/device:CPU:0\n",
      "Executing op RepeatDataset in device /job:localhost/replica:0/task:0/device:CPU:0\n",
      "Executing op ZipDataset in device /job:localhost/replica:0/task:0/device:CPU:0\n",
      "Executing op ParallelMapDataset in device /job:localhost/replica:0/task:0/device:CPU:0\n",
      "Executing op ModelDataset in device /job:localhost/replica:0/task:0/device:CPU:0\n",
      "12788/12788 [==============================] - 49s 4ms/step\n",
      "Executing op ConcatV2 in device /job:localhost/replica:0/task:0/device:GPU:0\n"
     ]
    }
   ],
   "source": [
    "X_data=X_data.astype('float32')\n",
    "predict =model.predict(X_data, verbose=1)"
   ]
  },
  {
   "cell_type": "code",
   "execution_count": 83,
   "id": "dutch-tutorial",
   "metadata": {},
   "outputs": [],
   "source": [
    "def make_1(predict,threshold):\n",
    "    Y=[]\n",
    "    for i in range(len(predict)):\n",
    "        if predict[i]>threshold:\n",
    "            Y.append(1)\n",
    "        else:\n",
    "            Y.append(0)\n",
    "    return Y"
   ]
  },
  {
   "cell_type": "code",
   "execution_count": 84,
   "id": "tired-avenue",
   "metadata": {},
   "outputs": [],
   "source": [
    "Y_predict_pr=make_1(predict,threshold_pr)"
   ]
  },
  {
   "cell_type": "code",
   "execution_count": 85,
   "id": "operational-yahoo",
   "metadata": {},
   "outputs": [],
   "source": [
    "Y_predict_roc=make_1(predict,threshold_roc)"
   ]
  },
  {
   "cell_type": "code",
   "execution_count": 86,
   "id": "desperate-direction",
   "metadata": {},
   "outputs": [],
   "source": [
    "pr_attack=[]\n",
    "for i in range(len(Y_predict_pr)):\n",
    "    if Y_predict_pr[i]==1:\n",
    "        pr_attack.append(i)"
   ]
  },
  {
   "cell_type": "code",
   "execution_count": 87,
   "id": "atlantic-census",
   "metadata": {},
   "outputs": [],
   "source": [
    "roc_attack=[]\n",
    "for i in range(len(Y_predict_roc)):\n",
    "    if Y_predict_roc[i]==1:\n",
    "        roc_attack.append(i)"
   ]
  },
  {
   "cell_type": "code",
   "execution_count": 88,
   "id": "sunset-review",
   "metadata": {},
   "outputs": [
    {
     "name": "stdout",
     "output_type": "stream",
     "text": [
      "77 156\n"
     ]
    }
   ],
   "source": [
    "print(len(pr_attack),len(roc_attack))"
   ]
  },
  {
   "cell_type": "code",
   "execution_count": 89,
   "id": "underlying-nigeria",
   "metadata": {},
   "outputs": [
    {
     "name": "stdout",
     "output_type": "stream",
     "text": [
      "FTP 172.16.0.1 192.168.10.50 52280 21\n",
      "FTP 172.16.0.1 192.168.10.50 52290 21\n",
      "FTP 172.16.0.1 192.168.10.50 52296 21\n",
      "FTP 172.16.0.1 192.168.10.50 52298 21\n",
      "FTP 172.16.0.1 192.168.10.50 52306 21\n",
      "FTP 172.16.0.1 192.168.10.50 52308 21\n",
      "FTP 172.16.0.1 192.168.10.50 52310 21\n",
      "FTP 172.16.0.1 192.168.10.50 52322 21\n",
      "FTP 172.16.0.1 192.168.10.50 52324 21\n",
      "FTP 172.16.0.1 192.168.10.50 52326 21\n",
      "FTP 172.16.0.1 192.168.10.50 52332 21\n",
      "TCP 172.16.0.1 192.168.10.50 52278 21\n",
      "TCP 172.16.0.1 192.168.10.50 52280 21\n",
      "TCP 172.16.0.1 192.168.10.50 52282 21\n",
      "TCP 172.16.0.1 192.168.10.50 52284 21\n",
      "TCP 172.16.0.1 192.168.10.50 52286 21\n",
      "TCP 172.16.0.1 192.168.10.50 52288 21\n",
      "TCP 172.16.0.1 192.168.10.50 52292 21\n",
      "TCP 172.16.0.1 192.168.10.50 52294 21\n",
      "TCP 172.16.0.1 192.168.10.50 52296 21\n",
      "TCP 172.16.0.1 192.168.10.50 52298 21\n",
      "TCP 172.16.0.1 192.168.10.50 52300 21\n",
      "TCP 172.16.0.1 192.168.10.50 52302 21\n",
      "TCP 172.16.0.1 192.168.10.50 52304 21\n",
      "TCP 172.16.0.1 192.168.10.50 52306 21\n",
      "TCP 172.16.0.1 192.168.10.50 52308 21\n",
      "TCP 172.16.0.1 192.168.10.50 52310 21\n",
      "TCP 172.16.0.1 192.168.10.50 52312 21\n",
      "TCP 172.16.0.1 192.168.10.50 52314 21\n",
      "TCP 172.16.0.1 192.168.10.50 52316 21\n",
      "TCP 172.16.0.1 192.168.10.50 52318 21\n",
      "TCP 172.16.0.1 192.168.10.50 52320 21\n",
      "TCP 172.16.0.1 192.168.10.50 52322 21\n",
      "TCP 192.168.10.25 104.156.236.219 51460 4502\n",
      "FTP 192.168.10.50 172.16.0.1 21 52282\n",
      "FTP 192.168.10.50 172.16.0.1 21 52284\n",
      "FTP 192.168.10.50 172.16.0.1 21 52288\n",
      "FTP 192.168.10.50 172.16.0.1 21 52290\n",
      "FTP 192.168.10.50 172.16.0.1 21 52292\n",
      "FTP 192.168.10.50 172.16.0.1 21 52294\n",
      "FTP 192.168.10.50 172.16.0.1 21 52298\n",
      "FTP 192.168.10.50 172.16.0.1 21 52302\n",
      "FTP 192.168.10.50 172.16.0.1 21 52304\n",
      "FTP 192.168.10.50 172.16.0.1 21 52312\n",
      "FTP 192.168.10.50 172.16.0.1 21 52314\n",
      "FTP 192.168.10.50 172.16.0.1 21 52316\n",
      "FTP 192.168.10.50 172.16.0.1 21 52318\n",
      "FTP 192.168.10.50 172.16.0.1 21 52328\n",
      "FTP 192.168.10.50 172.16.0.1 21 52330\n",
      "FTP 192.168.10.50 172.16.0.1 21 52334\n",
      "TCP 192.168.10.50 172.16.0.1 21 52280\n",
      "TCP 192.168.10.50 172.16.0.1 21 52282\n",
      "TCP 192.168.10.50 172.16.0.1 21 52288\n",
      "TCP 192.168.10.50 172.16.0.1 21 52290\n",
      "TCP 192.168.10.50 172.16.0.1 21 52292\n",
      "TCP 192.168.10.50 172.16.0.1 21 52296\n",
      "TCP 192.168.10.50 172.16.0.1 21 52298\n",
      "TCP 192.168.10.50 172.16.0.1 21 52304\n",
      "TCP 192.168.10.50 172.16.0.1 21 52306\n",
      "TCP 192.168.10.50 172.16.0.1 21 52316\n",
      "TCP 192.168.10.50 172.16.0.1 21 52320\n",
      "TCP 192.168.10.50 172.16.0.1 21 52322\n",
      "TCP 192.168.10.50 172.16.0.1 21 52324\n",
      "TCP 192.168.10.50 172.16.0.1 21 52326\n",
      "TCP 192.168.10.50 172.16.0.1 21 52328\n",
      "TCP 192.168.10.50 172.16.0.1 21 52334\n",
      "FTP 192.168.10.50 172.16.0.1 21 52278\n",
      "FTP 192.168.10.50 172.16.0.1 21 52308\n",
      "TCP 192.168.10.50 172.16.0.1 21 52258\n",
      "TCP 192.168.10.50 172.16.0.1 21 52284\n",
      "TCP 192.168.10.50 172.16.0.1 21 52298\n",
      "TCP 192.168.10.50 192.168.10.5 21 52787\n",
      "FTP 172.16.0.1 192.168.10.50 52282 21\n",
      "FTP 172.16.0.1 192.168.10.50 52298 21\n",
      "TCP 172.16.0.1 192.168.10.50 52280 21\n",
      "TCP 172.16.0.1 192.168.10.50 52304 21\n",
      "TCP 192.168.10.17 103.27.148.71 60437 80\n"
     ]
    }
   ],
   "source": [
    "for i in range(len(pr_attack)):\n",
    "    print(groupset[pr_attack[i]][0][1],groupset[pr_attack[i]][0][2],groupset[pr_attack[i]][0][3],groupset[pr_attack[i]][0][4],groupset[pr_attack[i]][0][5])"
   ]
  },
  {
   "cell_type": "code",
   "execution_count": 90,
   "id": "little-minute",
   "metadata": {},
   "outputs": [],
   "source": [
    "import csv\n",
    "f = open('test_00001_60_pr.csv','w', newline='')\n",
    "wr = csv.writer(f)"
   ]
  },
  {
   "cell_type": "code",
   "execution_count": 91,
   "id": "legislative-broadcasting",
   "metadata": {},
   "outputs": [],
   "source": [
    "for k in range(len(pr_attack)):\n",
    "    i=pr_attack[k]\n",
    "    wr.writerow([groupset[i][0][2],groupset[i][0][3],groupset[i][0][4],groupset[i][0][5],groupset[i][0][1]])"
   ]
  },
  {
   "cell_type": "code",
   "execution_count": 92,
   "id": "friendly-pendant",
   "metadata": {},
   "outputs": [],
   "source": [
    "f.close()"
   ]
  },
  {
   "cell_type": "code",
   "execution_count": 93,
   "id": "thermal-secretary",
   "metadata": {},
   "outputs": [],
   "source": [
    "import csv\n",
    "f = open('test_00001_60_roc.csv','w', newline='')\n",
    "wr = csv.writer(f)"
   ]
  },
  {
   "cell_type": "code",
   "execution_count": 94,
   "id": "young-regular",
   "metadata": {},
   "outputs": [],
   "source": [
    "for k in range(len(roc_attack)):\n",
    "    i=roc_attack[k]\n",
    "    wr.writerow([groupset[i][0][2],groupset[i][0][3],groupset[i][0][4],groupset[i][0][5],groupset[i][0][1]])"
   ]
  },
  {
   "cell_type": "code",
   "execution_count": 95,
   "id": "enabling-error",
   "metadata": {},
   "outputs": [],
   "source": [
    "f.close()"
   ]
  },
  {
   "cell_type": "code",
   "execution_count": null,
   "id": "mounted-being",
   "metadata": {},
   "outputs": [],
   "source": []
  }
 ],
 "metadata": {
  "kernelspec": {
   "display_name": "Python 3",
   "language": "python",
   "name": "python3"
  },
  "language_info": {
   "codemirror_mode": {
    "name": "ipython",
    "version": 3
   },
   "file_extension": ".py",
   "mimetype": "text/x-python",
   "name": "python",
   "nbconvert_exporter": "python",
   "pygments_lexer": "ipython3",
   "version": "3.7.9"
  }
 },
 "nbformat": 4,
 "nbformat_minor": 5
}
